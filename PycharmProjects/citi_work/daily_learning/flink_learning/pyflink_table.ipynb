{
 "cells": [
  {
   "cell_type": "code",
   "execution_count": 1,
   "id": "ebcdbe81",
   "metadata": {},
   "outputs": [],
   "source": [
    "import pyflink"
   ]
  },
  {
   "cell_type": "code",
   "execution_count": 2,
   "id": "8cfd5e88",
   "metadata": {},
   "outputs": [],
   "source": [
    "from pyflink.table import EnvironmentSettings, TableEnvironment\n",
    "from pyflink.table.expressions import col"
   ]
  },
  {
   "cell_type": "code",
   "execution_count": 10,
   "id": "4bb7d902",
   "metadata": {},
   "outputs": [],
   "source": [
    "table_env = TableEnvironment.create(EnvironmentSettings.in_streaming_mode())"
   ]
  },
  {
   "cell_type": "code",
   "execution_count": 11,
   "id": "948dccc3",
   "metadata": {},
   "outputs": [
    {
     "data": {
      "text/plain": [
       "<pyflink.table.table_result.TableResult at 0x281101dc0>"
      ]
     },
     "execution_count": 11,
     "metadata": {},
     "output_type": "execute_result"
    }
   ],
   "source": [
    "table_env.execute_sql(\"\"\"\n",
    "    CREATE TABLE datagen (\n",
    "        id INT,\n",
    "        data STRING\n",
    "    ) WITH (\n",
    "        'connector' = 'datagen',\n",
    "        'fields.id.kind' = 'sequence',\n",
    "        'fields.id.start' = '1',\n",
    "        'fields.id.end' = '10'\n",
    "    )\n",
    "\"\"\")"
   ]
  },
  {
   "cell_type": "code",
   "execution_count": 12,
   "id": "e4c548a6",
   "metadata": {},
   "outputs": [
    {
     "data": {
      "text/plain": [
       "<pyflink.table.table_result.TableResult at 0x2811011c0>"
      ]
     },
     "execution_count": 12,
     "metadata": {},
     "output_type": "execute_result"
    }
   ],
   "source": [
    "table_env.execute_sql(\"\"\"\n",
    "    CREATE TABLE print (\n",
    "        id INT,\n",
    "        data STRING\n",
    "    ) WITH (\n",
    "        'connector' = 'print'\n",
    "    )\n",
    "\"\"\")"
   ]
  },
  {
   "cell_type": "code",
   "execution_count": 14,
   "id": "4d54a341",
   "metadata": {},
   "outputs": [],
   "source": [
    "r = table_env.execute_sql(\"show tables\")"
   ]
  },
  {
   "cell_type": "code",
   "execution_count": 15,
   "id": "072d5de5",
   "metadata": {},
   "outputs": [
    {
     "data": {
      "text/plain": [
       "['__class__',\n",
       " '__delattr__',\n",
       " '__dict__',\n",
       " '__dir__',\n",
       " '__doc__',\n",
       " '__eq__',\n",
       " '__format__',\n",
       " '__ge__',\n",
       " '__getattribute__',\n",
       " '__gt__',\n",
       " '__hash__',\n",
       " '__init__',\n",
       " '__init_subclass__',\n",
       " '__le__',\n",
       " '__lt__',\n",
       " '__module__',\n",
       " '__ne__',\n",
       " '__new__',\n",
       " '__reduce__',\n",
       " '__reduce_ex__',\n",
       " '__repr__',\n",
       " '__setattr__',\n",
       " '__sizeof__',\n",
       " '__str__',\n",
       " '__subclasshook__',\n",
       " '__weakref__',\n",
       " '_get_java_table_schema',\n",
       " '_j_table_result',\n",
       " 'collect',\n",
       " 'get_job_client',\n",
       " 'get_result_kind',\n",
       " 'get_table_schema',\n",
       " 'print',\n",
       " 'wait']"
      ]
     },
     "execution_count": 15,
     "metadata": {},
     "output_type": "execute_result"
    }
   ],
   "source": [
    "dir(r)"
   ]
  },
  {
   "cell_type": "code",
   "execution_count": 16,
   "id": "274ebf56",
   "metadata": {},
   "outputs": [
    {
     "name": "stdout",
     "output_type": "stream",
     "text": [
      "+------------+\n",
      "| table name |\n",
      "+------------+\n",
      "|    datagen |\n",
      "|      print |\n",
      "+------------+\n",
      "2 rows in set\n"
     ]
    }
   ],
   "source": [
    "r.print()"
   ]
  },
  {
   "cell_type": "code",
   "execution_count": 17,
   "id": "2a10d603",
   "metadata": {},
   "outputs": [],
   "source": [
    "s = table_env.from_path('datagen')"
   ]
  },
  {
   "cell_type": "code",
   "execution_count": 19,
   "id": "9d253923",
   "metadata": {},
   "outputs": [],
   "source": [
    "def dis(x):print(dir(x))"
   ]
  },
  {
   "cell_type": "code",
   "execution_count": 20,
   "id": "cbbf80d4",
   "metadata": {},
   "outputs": [
    {
     "name": "stdout",
     "output_type": "stream",
     "text": [
      "['__class__', '__delattr__', '__dict__', '__dir__', '__doc__', '__eq__', '__format__', '__ge__', '__getattr__', '__getattribute__', '__gt__', '__hash__', '__init__', '__init_subclass__', '__le__', '__lt__', '__module__', '__ne__', '__new__', '__reduce__', '__reduce_ex__', '__repr__', '__setattr__', '__sizeof__', '__str__', '__subclasshook__', '__weakref__', '_j_table', '_t_env', 'add_columns', 'add_or_replace_columns', 'aggregate', 'alias', 'distinct', 'drop_columns', 'execute', 'execute_insert', 'explain', 'fetch', 'filter', 'flat_aggregate', 'flat_map', 'full_outer_join', 'get_schema', 'group_by', 'intersect', 'intersect_all', 'join', 'join_lateral', 'left_outer_join', 'left_outer_join_lateral', 'limit', 'map', 'minus', 'minus_all', 'offset', 'order_by', 'over_window', 'print_schema', 'rename_columns', 'right_outer_join', 'select', 'to_pandas', 'union', 'union_all', 'where', 'window']\n"
     ]
    }
   ],
   "source": [
    "dis(s)"
   ]
  },
  {
   "cell_type": "code",
   "execution_count": 21,
   "id": "c945e461",
   "metadata": {},
   "outputs": [
    {
     "data": {
      "text/html": [
       "<div>\n",
       "<style scoped>\n",
       "    .dataframe tbody tr th:only-of-type {\n",
       "        vertical-align: middle;\n",
       "    }\n",
       "\n",
       "    .dataframe tbody tr th {\n",
       "        vertical-align: top;\n",
       "    }\n",
       "\n",
       "    .dataframe thead th {\n",
       "        text-align: right;\n",
       "    }\n",
       "</style>\n",
       "<table border=\"1\" class=\"dataframe\">\n",
       "  <thead>\n",
       "    <tr style=\"text-align: right;\">\n",
       "      <th></th>\n",
       "      <th>id</th>\n",
       "      <th>data</th>\n",
       "    </tr>\n",
       "  </thead>\n",
       "  <tbody>\n",
       "    <tr>\n",
       "      <th>0</th>\n",
       "      <td>10</td>\n",
       "      <td>59eebdb5c74601fbbf975d70f2b75ef995878272f03ed4...</td>\n",
       "    </tr>\n",
       "    <tr>\n",
       "      <th>1</th>\n",
       "      <td>1</td>\n",
       "      <td>c1eab9564cb91a61de1720f7b1a72038b11100ec77e800...</td>\n",
       "    </tr>\n",
       "    <tr>\n",
       "      <th>2</th>\n",
       "      <td>2</td>\n",
       "      <td>843feacaef1b869ac7907e297dceec5fa437bb313fd8f8...</td>\n",
       "    </tr>\n",
       "    <tr>\n",
       "      <th>3</th>\n",
       "      <td>3</td>\n",
       "      <td>e1ffbb4dc7d20c2e5381539eba3ae21dd714b80bd7a91b...</td>\n",
       "    </tr>\n",
       "    <tr>\n",
       "      <th>4</th>\n",
       "      <td>4</td>\n",
       "      <td>ebfebdfc2cf9455ab941c056108a8783a7539988d37ea3...</td>\n",
       "    </tr>\n",
       "    <tr>\n",
       "      <th>5</th>\n",
       "      <td>5</td>\n",
       "      <td>be2f6cad68717e77340f6b6a86e7b72088d26cd8503977...</td>\n",
       "    </tr>\n",
       "    <tr>\n",
       "      <th>6</th>\n",
       "      <td>6</td>\n",
       "      <td>b87d1d7d294689489f5d5e9580f9415284e35e3ffa55e8...</td>\n",
       "    </tr>\n",
       "    <tr>\n",
       "      <th>7</th>\n",
       "      <td>7</td>\n",
       "      <td>f1a98ab5799a63da87b8ffaa91dc2a61256ddef1abef38...</td>\n",
       "    </tr>\n",
       "    <tr>\n",
       "      <th>8</th>\n",
       "      <td>8</td>\n",
       "      <td>2c2d4caa8f6cce5da545d27c92088c067d6c72c466a063...</td>\n",
       "    </tr>\n",
       "    <tr>\n",
       "      <th>9</th>\n",
       "      <td>9</td>\n",
       "      <td>f22ee8b7c8703f0357dbaa21cc2ad9473dd5940e107477...</td>\n",
       "    </tr>\n",
       "  </tbody>\n",
       "</table>\n",
       "</div>"
      ],
      "text/plain": [
       "   id                                               data\n",
       "0  10  59eebdb5c74601fbbf975d70f2b75ef995878272f03ed4...\n",
       "1   1  c1eab9564cb91a61de1720f7b1a72038b11100ec77e800...\n",
       "2   2  843feacaef1b869ac7907e297dceec5fa437bb313fd8f8...\n",
       "3   3  e1ffbb4dc7d20c2e5381539eba3ae21dd714b80bd7a91b...\n",
       "4   4  ebfebdfc2cf9455ab941c056108a8783a7539988d37ea3...\n",
       "5   5  be2f6cad68717e77340f6b6a86e7b72088d26cd8503977...\n",
       "6   6  b87d1d7d294689489f5d5e9580f9415284e35e3ffa55e8...\n",
       "7   7  f1a98ab5799a63da87b8ffaa91dc2a61256ddef1abef38...\n",
       "8   8  2c2d4caa8f6cce5da545d27c92088c067d6c72c466a063...\n",
       "9   9  f22ee8b7c8703f0357dbaa21cc2ad9473dd5940e107477..."
      ]
     },
     "execution_count": 21,
     "metadata": {},
     "output_type": "execute_result"
    }
   ],
   "source": [
    "s.to_pandas()"
   ]
  },
  {
   "cell_type": "code",
   "execution_count": 22,
   "id": "52f94855",
   "metadata": {},
   "outputs": [
    {
     "name": "stdout",
     "output_type": "stream",
     "text": [
      "(\n",
      "  `id` INT,\n",
      "  `data` STRING\n",
      ")\n"
     ]
    }
   ],
   "source": [
    "s.print_schema()"
   ]
  },
  {
   "cell_type": "code",
   "execution_count": 23,
   "id": "1f08c634",
   "metadata": {},
   "outputs": [
    {
     "data": {
      "text/plain": [
       "pyflink.table.table.Table"
      ]
     },
     "execution_count": 23,
     "metadata": {},
     "output_type": "execute_result"
    }
   ],
   "source": [
    "type(s)"
   ]
  },
  {
   "cell_type": "code",
   "execution_count": 27,
   "id": "979cf3b9",
   "metadata": {},
   "outputs": [
    {
     "data": {
      "text/html": [
       "<div>\n",
       "<style scoped>\n",
       "    .dataframe tbody tr th:only-of-type {\n",
       "        vertical-align: middle;\n",
       "    }\n",
       "\n",
       "    .dataframe tbody tr th {\n",
       "        vertical-align: top;\n",
       "    }\n",
       "\n",
       "    .dataframe thead th {\n",
       "        text-align: right;\n",
       "    }\n",
       "</style>\n",
       "<table border=\"1\" class=\"dataframe\">\n",
       "  <thead>\n",
       "    <tr style=\"text-align: right;\">\n",
       "      <th></th>\n",
       "      <th>id</th>\n",
       "      <th>data</th>\n",
       "    </tr>\n",
       "  </thead>\n",
       "  <tbody>\n",
       "    <tr>\n",
       "      <th>0</th>\n",
       "      <td>9</td>\n",
       "      <td>8e380e27af1402143f0464b9ffd66218afb2acdfb86b8b...</td>\n",
       "    </tr>\n",
       "    <tr>\n",
       "      <th>1</th>\n",
       "      <td>5</td>\n",
       "      <td>1bbbec6028a92848728ed942acd1cde7df02201a42918b...</td>\n",
       "    </tr>\n",
       "    <tr>\n",
       "      <th>2</th>\n",
       "      <td>2</td>\n",
       "      <td>60286a8d2887804b8919e13a4fedf7bc37d1fd4821725c...</td>\n",
       "    </tr>\n",
       "    <tr>\n",
       "      <th>3</th>\n",
       "      <td>6</td>\n",
       "      <td>7bab6c16dbdc69edabe9b45f41cda9637a4a5b7692bffa...</td>\n",
       "    </tr>\n",
       "    <tr>\n",
       "      <th>4</th>\n",
       "      <td>1</td>\n",
       "      <td>37a888dc2e3e6550f30535b6c237c56729ca2c8888b2ef...</td>\n",
       "    </tr>\n",
       "    <tr>\n",
       "      <th>5</th>\n",
       "      <td>4</td>\n",
       "      <td>abffdd52ab8de73526cfcd3a446c0aaa67fb35fefe47d9...</td>\n",
       "    </tr>\n",
       "    <tr>\n",
       "      <th>6</th>\n",
       "      <td>3</td>\n",
       "      <td>0e3cecb7e80c8811e78ab2bb8b31b0b793482621c1719b...</td>\n",
       "    </tr>\n",
       "    <tr>\n",
       "      <th>7</th>\n",
       "      <td>7</td>\n",
       "      <td>d1eb59b53b0eac4c62ebca73c0d40bb19fe5800631ceea...</td>\n",
       "    </tr>\n",
       "    <tr>\n",
       "      <th>8</th>\n",
       "      <td>8</td>\n",
       "      <td>6a2fae820e23d60089500b4a4424f78d71c30f450cbe2e...</td>\n",
       "    </tr>\n",
       "    <tr>\n",
       "      <th>9</th>\n",
       "      <td>10</td>\n",
       "      <td>43e9d9e31e51e8334cb5d2d2a8be8ffa9932f4f677214e...</td>\n",
       "    </tr>\n",
       "  </tbody>\n",
       "</table>\n",
       "</div>"
      ],
      "text/plain": [
       "   id                                               data\n",
       "0   9  8e380e27af1402143f0464b9ffd66218afb2acdfb86b8b...\n",
       "1   5  1bbbec6028a92848728ed942acd1cde7df02201a42918b...\n",
       "2   2  60286a8d2887804b8919e13a4fedf7bc37d1fd4821725c...\n",
       "3   6  7bab6c16dbdc69edabe9b45f41cda9637a4a5b7692bffa...\n",
       "4   1  37a888dc2e3e6550f30535b6c237c56729ca2c8888b2ef...\n",
       "5   4  abffdd52ab8de73526cfcd3a446c0aaa67fb35fefe47d9...\n",
       "6   3  0e3cecb7e80c8811e78ab2bb8b31b0b793482621c1719b...\n",
       "7   7  d1eb59b53b0eac4c62ebca73c0d40bb19fe5800631ceea...\n",
       "8   8  6a2fae820e23d60089500b4a4424f78d71c30f450cbe2e...\n",
       "9  10  43e9d9e31e51e8334cb5d2d2a8be8ffa9932f4f677214e..."
      ]
     },
     "execution_count": 27,
     "metadata": {},
     "output_type": "execute_result"
    }
   ],
   "source": [
    "s.distinct().to_pandas()"
   ]
  },
  {
   "cell_type": "code",
   "execution_count": 29,
   "id": "67f68e36",
   "metadata": {},
   "outputs": [
    {
     "name": "stdout",
     "output_type": "stream",
     "text": [
      "== Abstract Syntax Tree ==\n",
      "LogicalTableScan(table=[[default_catalog, default_database, datagen]])\n",
      "\n",
      "== Optimized Physical Plan ==\n",
      "TableSourceScan(table=[[default_catalog, default_database, datagen]], fields=[id, data])\n",
      "\n",
      "== Optimized Execution Plan ==\n",
      "TableSourceScan(table=[[default_catalog, default_database, datagen]], fields=[id, data])\n",
      "\n"
     ]
    }
   ],
   "source": [
    "print(s.explain())"
   ]
  },
  {
   "cell_type": "code",
   "execution_count": 30,
   "id": "a2b73a8f",
   "metadata": {},
   "outputs": [
    {
     "name": "stdout",
     "output_type": "stream",
     "text": [
      "7> +I[8, 202ee80a1192073a317f0fd220ab662b8b1f354a9825c490ebe4cb015a9fd1d6bd7b18fd6f928460c0c8eafff04f46ade4d4]\n",
      "6> +I[7, 41b94a9e6092f5aadc08093b106957c6477a972da6c376f0958ec1305f069a2632f60c1bb09d8cbce86371e1de7bcf49111a]\n",
      "10> +I[11, 0e3f2c68b93f8b94df39f20d523f2ab9c47a99a40105238fbdd568a122feda65318d5c34a17c8f57344137253c6ed23ea5cb]\n",
      "4> +I[5, 362eea17594f21892869719e10908f1b5cf8e3163a1314424635e04d94b19d8f8ff1c74c22b6c10ac7d040562ff5495d39e9]\n",
      "8> +I[9, 946f991609ac5961f48a6e3fda31078b6844ca83b6f0361d68402659569350f48ada393df49ff2aad96e2ec78ecc5688e847]\n",
      "9> +I[10, b62e0aadf11fe30031b9b6e5eac0cf4bd009e4473c2e2e9271aa980ee3e2bc6f208887821403fa24762eaa04af65eed4487c]\n",
      "5> +I[6, 93bc886bb51f376b40a036cd05be65b36ec1ffaa568a7200d969149c85b8460c08575512b14d57978e76d13d8393760c7236]\n",
      "3> +I[4, a27c5b418693648957075193053fb50bc0eaf1339cc0aa3086008019436749cae566f76a59fd30e464a36d86b508f0e4a9b6]\n",
      "1> +I[2, d86d1dc33148352ea4fa66899530c614c14cac7292d0bd77f20ca22e19244c047fd0d756c92b8c486a85e6955919458c4579]\n",
      "2> +I[3, 19ea7f06d4000ed98fa4735e029a24a01b673d3db5c950d2d65132f56a37282bef303322a342858b0fc2d65c4b52c3940cdd]\n"
     ]
    }
   ],
   "source": [
    "s.select(col('id') + 1, col('data')).execute_insert('print').wait()"
   ]
  },
  {
   "cell_type": "code",
   "execution_count": 31,
   "id": "4de1649c",
   "metadata": {},
   "outputs": [],
   "source": [
    "env = table_env"
   ]
  },
  {
   "cell_type": "code",
   "execution_count": 35,
   "id": "2dc1c9a5",
   "metadata": {},
   "outputs": [
    {
     "name": "stdout",
     "output_type": "stream",
     "text": [
      "+----+--------------------------------+--------------------------------+\n",
      "| op |                              c |                              d |\n",
      "+----+--------------------------------+--------------------------------+\n",
      "| +I |                              a |                              b |\n",
      "+----+--------------------------------+--------------------------------+\n",
      "1 row in set\n"
     ]
    }
   ],
   "source": [
    "env.from_elements([['a', 'b']], ['c','d']).execute().print()"
   ]
  },
  {
   "cell_type": "code",
   "execution_count": 36,
   "id": "d69adf29",
   "metadata": {},
   "outputs": [
    {
     "data": {
      "text/plain": [
       "root\n",
       " |-- id: INT\n",
       " |-- data: STRING"
      ]
     },
     "execution_count": 36,
     "metadata": {},
     "output_type": "execute_result"
    }
   ],
   "source": [
    "s.get_schema()"
   ]
  },
  {
   "cell_type": "code",
   "execution_count": 37,
   "id": "d6c99a96",
   "metadata": {},
   "outputs": [
    {
     "data": {
      "text/plain": [
       "pyflink.table.table.Table"
      ]
     },
     "execution_count": 37,
     "metadata": {},
     "output_type": "execute_result"
    }
   ],
   "source": [
    "type(s)"
   ]
  },
  {
   "cell_type": "code",
   "execution_count": 38,
   "id": "2ff0beec",
   "metadata": {},
   "outputs": [
    {
     "name": "stdout",
     "output_type": "stream",
     "text": [
      "['__class__', '__delattr__', '__dict__', '__dir__', '__doc__', '__eq__', '__format__', '__ge__', '__getattr__', '__getattribute__', '__gt__', '__hash__', '__init__', '__init_subclass__', '__le__', '__lt__', '__module__', '__ne__', '__new__', '__reduce__', '__reduce_ex__', '__repr__', '__setattr__', '__sizeof__', '__str__', '__subclasshook__', '__weakref__', '_j_table', '_t_env', 'add_columns', 'add_or_replace_columns', 'aggregate', 'alias', 'distinct', 'drop_columns', 'execute', 'execute_insert', 'explain', 'fetch', 'filter', 'flat_aggregate', 'flat_map', 'full_outer_join', 'get_schema', 'group_by', 'intersect', 'intersect_all', 'join', 'join_lateral', 'left_outer_join', 'left_outer_join_lateral', 'limit', 'map', 'minus', 'minus_all', 'offset', 'order_by', 'over_window', 'print_schema', 'rename_columns', 'right_outer_join', 'select', 'to_pandas', 'union', 'union_all', 'where', 'window']\n"
     ]
    }
   ],
   "source": [
    "dis(s)"
   ]
  },
  {
   "cell_type": "code",
   "execution_count": 40,
   "id": "37f27154",
   "metadata": {},
   "outputs": [
    {
     "data": {
      "text/plain": [
       "pyflink.table.table.Table"
      ]
     },
     "execution_count": 40,
     "metadata": {},
     "output_type": "execute_result"
    }
   ],
   "source": [
    "d = env.from_elements([['a', 'b']], ['c1', 'c2'])\n",
    "type(d)"
   ]
  },
  {
   "cell_type": "code",
   "execution_count": 43,
   "id": "9b08516c",
   "metadata": {},
   "outputs": [],
   "source": [
    "env.create_temporary_view('tmp', d)"
   ]
  },
  {
   "cell_type": "code",
   "execution_count": 44,
   "id": "74080096",
   "metadata": {},
   "outputs": [
    {
     "name": "stdout",
     "output_type": "stream",
     "text": [
      "+----+--------------------------------+--------------------------------+\n",
      "| op |                             c1 |                             c2 |\n",
      "+----+--------------------------------+--------------------------------+\n",
      "| +I |                              a |                              b |\n",
      "+----+--------------------------------+--------------------------------+\n",
      "1 row in set\n"
     ]
    }
   ],
   "source": [
    "env.from_path('tmp').execute().print()"
   ]
  },
  {
   "cell_type": "code",
   "execution_count": 45,
   "id": "36963f0e",
   "metadata": {},
   "outputs": [],
   "source": [
    "orders = table_env.from_elements([('Jack', 'FRANCE', 10), ('Rose', 'ENGLAND', 30), ('Jack', 'FRANCE', 20)],\n",
    "                                 ['name', 'country', 'revenue'])\n"
   ]
  },
  {
   "cell_type": "code",
   "execution_count": 57,
   "id": "d9c87788",
   "metadata": {},
   "outputs": [
    {
     "name": "stdout",
     "output_type": "stream",
     "text": [
      "+----+--------------------------------+----------------------+\n",
      "| op |                           name |                  res |\n",
      "+----+--------------------------------+----------------------+\n",
      "| +I |                           Rose |                   30 |\n",
      "| +I |                           Jack |                   10 |\n",
      "| -U |                           Jack |                   10 |\n",
      "| +U |                           Jack |                   30 |\n",
      "+----+--------------------------------+----------------------+\n",
      "4 rows in set\n"
     ]
    }
   ],
   "source": [
    "from pyflink.table.expressions import call\n",
    "\n",
    "new_order = orders.select(col('name'), col('revenue')).group_by(col('name')).select(col('name'), call('sum', col('revenue')).alias('res'))\n",
    "new_order.execute().print()"
   ]
  },
  {
   "cell_type": "code",
   "execution_count": 49,
   "id": "4fa5d56c",
   "metadata": {},
   "outputs": [
    {
     "name": "stdout",
     "output_type": "stream",
     "text": [
      "+----+--------------------------------+--------------------------------+\n",
      "| op |                             c1 |                             c2 |\n",
      "+----+--------------------------------+--------------------------------+\n",
      "| +I |                              a |                              b |\n",
      "+----+--------------------------------+--------------------------------+\n",
      "1 row in set\n"
     ]
    }
   ],
   "source": [
    "env.execute_sql('select * from tmp').print()"
   ]
  },
  {
   "cell_type": "code",
   "execution_count": 51,
   "id": "707a856e",
   "metadata": {},
   "outputs": [
    {
     "name": "stdout",
     "output_type": "stream",
     "text": [
      "<Row('a', 'b')>\n"
     ]
    }
   ],
   "source": [
    "res = env.execute_sql('select * from tmp')\n",
    "for r in res.collect():\n",
    "    print(r)"
   ]
  },
  {
   "cell_type": "code",
   "execution_count": 53,
   "id": "f7ffa7e6",
   "metadata": {},
   "outputs": [
    {
     "data": {
      "text/html": [
       "<div>\n",
       "<style scoped>\n",
       "    .dataframe tbody tr th:only-of-type {\n",
       "        vertical-align: middle;\n",
       "    }\n",
       "\n",
       "    .dataframe tbody tr th {\n",
       "        vertical-align: top;\n",
       "    }\n",
       "\n",
       "    .dataframe thead th {\n",
       "        text-align: right;\n",
       "    }\n",
       "</style>\n",
       "<table border=\"1\" class=\"dataframe\">\n",
       "  <thead>\n",
       "    <tr style=\"text-align: right;\">\n",
       "      <th></th>\n",
       "      <th>name</th>\n",
       "      <th>country</th>\n",
       "      <th>revenue</th>\n",
       "    </tr>\n",
       "  </thead>\n",
       "  <tbody>\n",
       "    <tr>\n",
       "      <th>0</th>\n",
       "      <td>Jack</td>\n",
       "      <td>FRANCE</td>\n",
       "      <td>10</td>\n",
       "    </tr>\n",
       "    <tr>\n",
       "      <th>1</th>\n",
       "      <td>Rose</td>\n",
       "      <td>ENGLAND</td>\n",
       "      <td>30</td>\n",
       "    </tr>\n",
       "    <tr>\n",
       "      <th>2</th>\n",
       "      <td>Jack</td>\n",
       "      <td>FRANCE</td>\n",
       "      <td>20</td>\n",
       "    </tr>\n",
       "  </tbody>\n",
       "</table>\n",
       "</div>"
      ],
      "text/plain": [
       "   name  country  revenue\n",
       "0  Jack   FRANCE       10\n",
       "1  Rose  ENGLAND       30\n",
       "2  Jack   FRANCE       20"
      ]
     },
     "execution_count": 53,
     "metadata": {},
     "output_type": "execute_result"
    }
   ],
   "source": [
    "orders.to_pandas()"
   ]
  },
  {
   "cell_type": "code",
   "execution_count": 54,
   "id": "11afe2b9",
   "metadata": {},
   "outputs": [
    {
     "data": {
      "text/plain": [
       "pyflink.table.table.Table"
      ]
     },
     "execution_count": 54,
     "metadata": {},
     "output_type": "execute_result"
    }
   ],
   "source": [
    "type(orders)"
   ]
  },
  {
   "cell_type": "code",
   "execution_count": 58,
   "id": "c4cbe05e",
   "metadata": {},
   "outputs": [
    {
     "name": "stdout",
     "output_type": "stream",
     "text": [
      "== Abstract Syntax Tree ==\n",
      "LogicalProject(name=[$0], res=[$1])\n",
      "+- LogicalAggregate(group=[{0}], EXPR$0=[SUM($1)])\n",
      "   +- LogicalProject(name=[$0], revenue=[$2])\n",
      "      +- LogicalTableScan(table=[[*anonymous_python-input-format$10*]])\n",
      "\n",
      "== Optimized Physical Plan ==\n",
      "GroupAggregate(groupBy=[name], select=[name, SUM(revenue) AS EXPR$0])\n",
      "+- Exchange(distribution=[hash[name]])\n",
      "   +- Calc(select=[name, revenue])\n",
      "      +- TableSourceScan(table=[[*anonymous_python-input-format$10*]], fields=[name, country, revenue])\n",
      "\n",
      "== Optimized Execution Plan ==\n",
      "GroupAggregate(groupBy=[name], select=[name, SUM(revenue) AS EXPR$0])\n",
      "+- Exchange(distribution=[hash[name]])\n",
      "   +- Calc(select=[name, revenue])\n",
      "      +- TableSourceScan(table=[[*anonymous_python-input-format$10*]], fields=[name, country, revenue])\n",
      "\n"
     ]
    }
   ],
   "source": [
    "print(new_order.explain())"
   ]
  },
  {
   "cell_type": "code",
   "execution_count": 62,
   "id": "08f008c4",
   "metadata": {},
   "outputs": [
    {
     "name": "stdout",
     "output_type": "stream",
     "text": [
      "== Abstract Syntax Tree ==\n",
      "LogicalSink(table=[default_catalog.default_database.print], fields=[id, data])\n",
      "+- LogicalTableScan(table=[[default_catalog, default_database, datagen]])\n",
      "\n",
      "== Optimized Physical Plan ==\n",
      "Sink(table=[default_catalog.default_database.print], fields=[id, data])\n",
      "+- TableSourceScan(table=[[default_catalog, default_database, datagen]], fields=[id, data])\n",
      "\n",
      "== Optimized Execution Plan ==\n",
      "Sink(table=[default_catalog.default_database.print], fields=[id, data])\n",
      "+- TableSourceScan(table=[[default_catalog, default_database, datagen]], fields=[id, data])\n",
      "\n"
     ]
    }
   ],
   "source": [
    "stat = env.create_statement_set()\n",
    "\n",
    "stat.add_insert('print', s)\n",
    "\n",
    "print(stat.explain())"
   ]
  },
  {
   "cell_type": "code",
   "execution_count": null,
   "id": "6a06e27d",
   "metadata": {},
   "outputs": [],
   "source": []
  }
 ],
 "metadata": {
  "kernelspec": {
   "display_name": "big_data",
   "language": "python",
   "name": "big_data"
  },
  "language_info": {
   "codemirror_mode": {
    "name": "ipython",
    "version": 3
   },
   "file_extension": ".py",
   "mimetype": "text/x-python",
   "name": "python",
   "nbconvert_exporter": "python",
   "pygments_lexer": "ipython3",
   "version": "3.9.18"
  }
 },
 "nbformat": 4,
 "nbformat_minor": 5
}
