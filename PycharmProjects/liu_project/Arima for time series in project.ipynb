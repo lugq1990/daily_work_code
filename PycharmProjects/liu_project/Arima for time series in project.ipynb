{
 "cells": [
  {
   "cell_type": "markdown",
   "metadata": {},
   "source": [
    "### Introduction\n",
    "\n",
    "This notebook is based on the python file that we would use to make the time series logic for regression test."
   ]
  },
  {
   "cell_type": "code",
   "execution_count": 54,
   "metadata": {},
   "outputs": [],
   "source": [
    "import pandas as pd\n",
    "import numpy as np\n",
    "import copy\n",
    "import os\n",
    "import matplotlib.pyplot as plt\n",
    "import pylab as pl\n",
    "from datetime import datetime\n",
    "\n",
    "from sklearn.neighbors import KNeighborsClassifier, KNeighborsRegressor\n",
    "# these modules are used for statistics for time series\n",
    "from statsmodels.tsa.stattools import adfuller\n",
    "from statsmodels.stats.diagnostic import acorr_ljungbox\n",
    "import statsmodels.api as sm\n",
    "from statsmodels.graphics.tsaplots import plot_acf, plot_pacf\n",
    "from statsmodels.tsa.ar_model import AR\n",
    "from statsmodels.tsa.arima_model import ARMA\n",
    "\n",
    "import warnings\n",
    "\n",
    "warnings.simplefilter('ignore')"
   ]
  },
  {
   "cell_type": "code",
   "execution_count": 4,
   "metadata": {},
   "outputs": [],
   "source": [
    "path_arima = \"C:/Users/guangqiiang.lu/Downloads/model-asset/arima\""
   ]
  },
  {
   "cell_type": "code",
   "execution_count": 5,
   "metadata": {},
   "outputs": [
    {
     "data": {
      "text/html": [
       "<div>\n",
       "<style scoped>\n",
       "    .dataframe tbody tr th:only-of-type {\n",
       "        vertical-align: middle;\n",
       "    }\n",
       "\n",
       "    .dataframe tbody tr th {\n",
       "        vertical-align: top;\n",
       "    }\n",
       "\n",
       "    .dataframe thead th {\n",
       "        text-align: right;\n",
       "    }\n",
       "</style>\n",
       "<table border=\"1\" class=\"dataframe\">\n",
       "  <thead>\n",
       "    <tr style=\"text-align: right;\">\n",
       "      <th></th>\n",
       "      <th>Supplier Name</th>\n",
       "      <th>Supplier Num</th>\n",
       "      <th>Supplier Type</th>\n",
       "      <th>Supplier Site</th>\n",
       "      <th>Operating Unit</th>\n",
       "      <th>Invoice Date</th>\n",
       "      <th>Invoice Number</th>\n",
       "      <th>Invoice Amount</th>\n",
       "      <th>Invoice Currency</th>\n",
       "      <th>Discount Amount</th>\n",
       "      <th>...</th>\n",
       "      <th>Working Capital Impact</th>\n",
       "      <th>Pay Term</th>\n",
       "      <th>Invoice Type</th>\n",
       "      <th>Net Due Date</th>\n",
       "      <th>Aging</th>\n",
       "      <th>Payment Category</th>\n",
       "      <th>Weighted Aging Value</th>\n",
       "      <th>Payment Term Days</th>\n",
       "      <th>P&amp;L Impact</th>\n",
       "      <th>Late Pay Range</th>\n",
       "    </tr>\n",
       "  </thead>\n",
       "  <tbody>\n",
       "    <tr>\n",
       "      <th>0</th>\n",
       "      <td>bingologistics (shanghai）Co. Ltd.</td>\n",
       "      <td>10826</td>\n",
       "      <td>NONTRADE</td>\n",
       "      <td>CNCNYNTRCN1A</td>\n",
       "      <td>ARROW(CHINA)ELECTRONICSTRADINGCO.,LTD.</td>\n",
       "      <td>2017-11-08</td>\n",
       "      <td>07000677-07000679</td>\n",
       "      <td>235090</td>\n",
       "      <td>CNY</td>\n",
       "      <td>0</td>\n",
       "      <td>...</td>\n",
       "      <td>35610</td>\n",
       "      <td>NET_45</td>\n",
       "      <td>STANDARD</td>\n",
       "      <td>2017-12-23</td>\n",
       "      <td>-30</td>\n",
       "      <td>Early Payment</td>\n",
       "      <td>-1.0683e+06</td>\n",
       "      <td>45</td>\n",
       "      <td>-234.148</td>\n",
       "      <td>&lt;10%</td>\n",
       "    </tr>\n",
       "    <tr>\n",
       "      <th>1</th>\n",
       "      <td>shanghai aiconb Technology Co., Ltd.</td>\n",
       "      <td>10902</td>\n",
       "      <td>NONTRADE</td>\n",
       "      <td>CNCNYNTRCN1</td>\n",
       "      <td>ARROW(CHINA)ELECTRONICSTRADINGCO.,LTD.</td>\n",
       "      <td>2017-06-08</td>\n",
       "      <td>5093620</td>\n",
       "      <td>6450</td>\n",
       "      <td>CNY</td>\n",
       "      <td>0</td>\n",
       "      <td>...</td>\n",
       "      <td>951.201</td>\n",
       "      <td>NET_45</td>\n",
       "      <td>STANDARD</td>\n",
       "      <td>2017-07-23</td>\n",
       "      <td>-31</td>\n",
       "      <td>Early Payment</td>\n",
       "      <td>-29487.2</td>\n",
       "      <td>45</td>\n",
       "      <td>-6.46296</td>\n",
       "      <td>&lt;10%</td>\n",
       "    </tr>\n",
       "    <tr>\n",
       "      <th>2</th>\n",
       "      <td>shouxiafeng</td>\n",
       "      <td>10815</td>\n",
       "      <td>NONTRADE</td>\n",
       "      <td>CNCNYNTRCN1</td>\n",
       "      <td>ARROW(CHINA)ELECTRONICSTRADINGCO.,LTD.</td>\n",
       "      <td>2017-04-06</td>\n",
       "      <td>14378087</td>\n",
       "      <td>25000</td>\n",
       "      <td>CNY</td>\n",
       "      <td>0</td>\n",
       "      <td>...</td>\n",
       "      <td>3686.83</td>\n",
       "      <td>NET_45</td>\n",
       "      <td>STANDARD</td>\n",
       "      <td>2017-05-21</td>\n",
       "      <td>32</td>\n",
       "      <td>Late Payment</td>\n",
       "      <td>117978</td>\n",
       "      <td>45</td>\n",
       "      <td>25.8583</td>\n",
       "      <td>50%+</td>\n",
       "    </tr>\n",
       "    <tr>\n",
       "      <th>3</th>\n",
       "      <td>shouxiafeng</td>\n",
       "      <td>10815</td>\n",
       "      <td>NONTRADE</td>\n",
       "      <td>CNCNYNTRCN1</td>\n",
       "      <td>ARROW(CHINA)ELECTRONICSTRADINGCO.,LTD.</td>\n",
       "      <td>2017-10-10</td>\n",
       "      <td>14378100</td>\n",
       "      <td>25000</td>\n",
       "      <td>CNY</td>\n",
       "      <td>0</td>\n",
       "      <td>...</td>\n",
       "      <td>3842.13</td>\n",
       "      <td>NET_45</td>\n",
       "      <td>STANDARD</td>\n",
       "      <td>2017-11-24</td>\n",
       "      <td>27</td>\n",
       "      <td>Late Payment</td>\n",
       "      <td>103738</td>\n",
       "      <td>45</td>\n",
       "      <td>22.737</td>\n",
       "      <td>50%+</td>\n",
       "    </tr>\n",
       "    <tr>\n",
       "      <th>4</th>\n",
       "      <td>wanda jiecheng International Logistics (Beijin...</td>\n",
       "      <td>10800</td>\n",
       "      <td>NONTRADE</td>\n",
       "      <td>CNCNYNTRCN1</td>\n",
       "      <td>ARROW(CHINA)ELECTRONICSTRADINGCO.,LTD.</td>\n",
       "      <td>2017-12-05</td>\n",
       "      <td>18354393</td>\n",
       "      <td>66495.1</td>\n",
       "      <td>CNY</td>\n",
       "      <td>0</td>\n",
       "      <td>...</td>\n",
       "      <td>10219.3</td>\n",
       "      <td>NET_45</td>\n",
       "      <td>STANDARD</td>\n",
       "      <td>2018-01-19</td>\n",
       "      <td>-29</td>\n",
       "      <td>Early Payment</td>\n",
       "      <td>-296360</td>\n",
       "      <td>45</td>\n",
       "      <td>-64.9557</td>\n",
       "      <td>&lt;10%</td>\n",
       "    </tr>\n",
       "  </tbody>\n",
       "</table>\n",
       "<p>5 rows × 40 columns</p>\n",
       "</div>"
      ],
      "text/plain": [
       "                         Supplier Name               Supplier Num  \\\n",
       "0                  bingologistics (shanghai）Co. Ltd.        10826   \n",
       "1               shanghai aiconb Technology Co., Ltd.        10902   \n",
       "2                                        shouxiafeng        10815   \n",
       "3                                        shouxiafeng        10815   \n",
       "4  wanda jiecheng International Logistics (Beijin...        10800   \n",
       "\n",
       "  Supplier Type Supplier Site                          Operating Unit  \\\n",
       "0      NONTRADE  CNCNYNTRCN1A  ARROW(CHINA)ELECTRONICSTRADINGCO.,LTD.   \n",
       "1      NONTRADE   CNCNYNTRCN1  ARROW(CHINA)ELECTRONICSTRADINGCO.,LTD.   \n",
       "2      NONTRADE   CNCNYNTRCN1  ARROW(CHINA)ELECTRONICSTRADINGCO.,LTD.   \n",
       "3      NONTRADE   CNCNYNTRCN1  ARROW(CHINA)ELECTRONICSTRADINGCO.,LTD.   \n",
       "4      NONTRADE   CNCNYNTRCN1  ARROW(CHINA)ELECTRONICSTRADINGCO.,LTD.   \n",
       "\n",
       "  Invoice Date     Invoice Number Invoice Amount Invoice Currency  \\\n",
       "0   2017-11-08  07000677-07000679         235090              CNY   \n",
       "1   2017-06-08            5093620           6450              CNY   \n",
       "2   2017-04-06           14378087          25000              CNY   \n",
       "3   2017-10-10           14378100          25000              CNY   \n",
       "4   2017-12-05           18354393        66495.1              CNY   \n",
       "\n",
       "  Discount Amount  ... Working Capital Impact Pay Term Invoice Type  \\\n",
       "0               0  ...                  35610   NET_45     STANDARD   \n",
       "1               0  ...                951.201   NET_45     STANDARD   \n",
       "2               0  ...                3686.83   NET_45     STANDARD   \n",
       "3               0  ...                3842.13   NET_45     STANDARD   \n",
       "4               0  ...                10219.3   NET_45     STANDARD   \n",
       "\n",
       "  Net Due Date Aging Payment Category Weighted Aging Value Payment Term Days  \\\n",
       "0   2017-12-23   -30    Early Payment          -1.0683e+06                45   \n",
       "1   2017-07-23   -31    Early Payment             -29487.2                45   \n",
       "2   2017-05-21    32     Late Payment               117978                45   \n",
       "3   2017-11-24    27     Late Payment               103738                45   \n",
       "4   2018-01-19   -29    Early Payment              -296360                45   \n",
       "\n",
       "  P&L Impact Late Pay Range  \n",
       "0   -234.148           <10%  \n",
       "1   -6.46296           <10%  \n",
       "2    25.8583           50%+  \n",
       "3     22.737           50%+  \n",
       "4   -64.9557           <10%  \n",
       "\n",
       "[5 rows x 40 columns]"
      ]
     },
     "execution_count": 5,
     "metadata": {},
     "output_type": "execute_result"
    }
   ],
   "source": [
    "# first let to load data\n",
    "data_np = np.load(os.path.join(path_arima, 'model_data.npy'), allow_pickle=True)\n",
    "\n",
    "data_column = ['Supplier Name              ', 'Supplier Num', 'Supplier Type',\n",
    "               'Supplier Site', 'Operating Unit', 'Invoice Date', 'Invoice Number',\n",
    "               'Invoice Amount', 'Invoice Currency', 'Discount Amount',\n",
    "               'Payment Amount', 'Payment Currency', 'Payment Document Name',\n",
    "               'Payment Method', 'Pay Group', 'Document Number', 'Payment Date',\n",
    "               'FileName', 'Company Code', 'Exchange Rate', 'invoice Exchange Rate',\n",
    "               'Payment AmountUSD', 'invoice AmountUSD', 'Vendor Category',\n",
    "               'Trade Type', 'Month end day', 'Scope', 'DTP', 'Weighted DTP Value',\n",
    "               'KeyMaster', 'Working Capital Impact', 'Pay Term', 'Invoice Type',\n",
    "               'Net Due Date', 'Aging', 'Payment Category', 'Weighted Aging Value',\n",
    "               'Payment Term Days', 'P&L Impact', 'Late Pay Range']\n",
    "\n",
    "data = pd.DataFrame(data_np, columns=data_column)\n",
    "\n",
    "data.head()"
   ]
  },
  {
   "cell_type": "code",
   "execution_count": 7,
   "metadata": {},
   "outputs": [
    {
     "name": "stdout",
     "output_type": "stream",
     "text": [
      "how many data:  (407575, 40)\n"
     ]
    }
   ],
   "source": [
    "# you could see that there are 4 millions records.\n",
    "print(\"how many data: \", data.shape)"
   ]
  },
  {
   "cell_type": "code",
   "execution_count": 8,
   "metadata": {},
   "outputs": [
    {
     "name": "stdout",
     "output_type": "stream",
     "text": [
      "please input the train start date(yyyy-mm-dd):2018-01-01\n"
     ]
    }
   ],
   "source": [
    "filter_date = input(\"please input the train start date(yyyy-mm-dd):\")\n"
   ]
  },
  {
   "cell_type": "code",
   "execution_count": 9,
   "metadata": {},
   "outputs": [
    {
     "data": {
      "text/plain": [
       "(322392, 40)"
      ]
     },
     "execution_count": 9,
     "metadata": {},
     "output_type": "execute_result"
    }
   ],
   "source": [
    "# convert to date type\n",
    "data['Payment Date'] = pd.to_datetime(data['Payment Date'])\n",
    "# convert to float type\n",
    "data['Payment AmountUSD'] = data['Payment AmountUSD'].astype(float)\n",
    "\n",
    "# just get data greater than filter date\n",
    "data_filter = data[data['Payment Date']>=filter_date]\n",
    "\n",
    "# there are 322392 records.\n",
    "data_filter.shape"
   ]
  },
  {
   "cell_type": "code",
   "execution_count": 10,
   "metadata": {},
   "outputs": [
    {
     "name": "stdout",
     "output_type": "stream",
     "text": [
      "How many dates:  (406, 2)\n"
     ]
    },
    {
     "data": {
      "text/html": [
       "<div>\n",
       "<style scoped>\n",
       "    .dataframe tbody tr th:only-of-type {\n",
       "        vertical-align: middle;\n",
       "    }\n",
       "\n",
       "    .dataframe tbody tr th {\n",
       "        vertical-align: top;\n",
       "    }\n",
       "\n",
       "    .dataframe thead th {\n",
       "        text-align: right;\n",
       "    }\n",
       "</style>\n",
       "<table border=\"1\" class=\"dataframe\">\n",
       "  <thead>\n",
       "    <tr style=\"text-align: right;\">\n",
       "      <th></th>\n",
       "      <th>Month</th>\n",
       "      <th>Amount</th>\n",
       "    </tr>\n",
       "  </thead>\n",
       "  <tbody>\n",
       "    <tr>\n",
       "      <th>0</th>\n",
       "      <td>2018-01-02</td>\n",
       "      <td>1.964215e+06</td>\n",
       "    </tr>\n",
       "    <tr>\n",
       "      <th>1</th>\n",
       "      <td>2018-01-03</td>\n",
       "      <td>2.755046e+05</td>\n",
       "    </tr>\n",
       "    <tr>\n",
       "      <th>2</th>\n",
       "      <td>2018-01-05</td>\n",
       "      <td>3.514239e+06</td>\n",
       "    </tr>\n",
       "    <tr>\n",
       "      <th>3</th>\n",
       "      <td>2018-01-11</td>\n",
       "      <td>4.700004e+06</td>\n",
       "    </tr>\n",
       "    <tr>\n",
       "      <th>4</th>\n",
       "      <td>2018-01-12</td>\n",
       "      <td>4.862683e+05</td>\n",
       "    </tr>\n",
       "  </tbody>\n",
       "</table>\n",
       "</div>"
      ],
      "text/plain": [
       "       Month        Amount\n",
       "0 2018-01-02  1.964215e+06\n",
       "1 2018-01-03  2.755046e+05\n",
       "2 2018-01-05  3.514239e+06\n",
       "3 2018-01-11  4.700004e+06\n",
       "4 2018-01-12  4.862683e+05"
      ]
     },
     "execution_count": 10,
     "metadata": {},
     "output_type": "execute_result"
    }
   ],
   "source": [
    "# according to Payment date to sum of the target value\n",
    "data_new = data_filter.groupby('Payment Date',as_index = False)['Payment AmountUSD'].sum()\n",
    "# reset the columns name\n",
    "data_new.columns = ['Month','Amount']\n",
    "\n",
    "# that's means there are 406 days.\n",
    "print(\"How many dates: \", data_new.shape)\n",
    "\n",
    "data_new.head()\n"
   ]
  },
  {
   "cell_type": "code",
   "execution_count": 12,
   "metadata": {},
   "outputs": [
    {
     "data": {
      "text/html": [
       "<div>\n",
       "<style scoped>\n",
       "    .dataframe tbody tr th:only-of-type {\n",
       "        vertical-align: middle;\n",
       "    }\n",
       "\n",
       "    .dataframe tbody tr th {\n",
       "        vertical-align: top;\n",
       "    }\n",
       "\n",
       "    .dataframe thead th {\n",
       "        text-align: right;\n",
       "    }\n",
       "</style>\n",
       "<table border=\"1\" class=\"dataframe\">\n",
       "  <thead>\n",
       "    <tr style=\"text-align: right;\">\n",
       "      <th></th>\n",
       "      <th>date</th>\n",
       "      <th>weekday</th>\n",
       "      <th>holiday</th>\n",
       "      <th>day after vacation</th>\n",
       "      <th>day after vacation days</th>\n",
       "      <th>special vacation</th>\n",
       "      <th>quarter</th>\n",
       "      <th>month of quarter</th>\n",
       "      <th>week of month</th>\n",
       "    </tr>\n",
       "  </thead>\n",
       "  <tbody>\n",
       "    <tr>\n",
       "      <th>0</th>\n",
       "      <td>2017-01-01</td>\n",
       "      <td>7</td>\n",
       "      <td>1</td>\n",
       "      <td>0</td>\n",
       "      <td>0</td>\n",
       "      <td>0</td>\n",
       "      <td>1</td>\n",
       "      <td>1</td>\n",
       "      <td>1</td>\n",
       "    </tr>\n",
       "    <tr>\n",
       "      <th>1</th>\n",
       "      <td>2017-01-02</td>\n",
       "      <td>1</td>\n",
       "      <td>1</td>\n",
       "      <td>0</td>\n",
       "      <td>0</td>\n",
       "      <td>0</td>\n",
       "      <td>1</td>\n",
       "      <td>1</td>\n",
       "      <td>1</td>\n",
       "    </tr>\n",
       "    <tr>\n",
       "      <th>2</th>\n",
       "      <td>2017-01-03</td>\n",
       "      <td>2</td>\n",
       "      <td>0</td>\n",
       "      <td>1</td>\n",
       "      <td>2</td>\n",
       "      <td>1</td>\n",
       "      <td>1</td>\n",
       "      <td>1</td>\n",
       "      <td>1</td>\n",
       "    </tr>\n",
       "    <tr>\n",
       "      <th>3</th>\n",
       "      <td>2017-01-04</td>\n",
       "      <td>3</td>\n",
       "      <td>0</td>\n",
       "      <td>0</td>\n",
       "      <td>0</td>\n",
       "      <td>0</td>\n",
       "      <td>1</td>\n",
       "      <td>1</td>\n",
       "      <td>1</td>\n",
       "    </tr>\n",
       "    <tr>\n",
       "      <th>4</th>\n",
       "      <td>2017-01-05</td>\n",
       "      <td>4</td>\n",
       "      <td>0</td>\n",
       "      <td>0</td>\n",
       "      <td>0</td>\n",
       "      <td>0</td>\n",
       "      <td>1</td>\n",
       "      <td>1</td>\n",
       "      <td>1</td>\n",
       "    </tr>\n",
       "  </tbody>\n",
       "</table>\n",
       "</div>"
      ],
      "text/plain": [
       "        date  weekday  holiday  day after vacation  day after vacation days  \\\n",
       "0 2017-01-01        7        1                   0                        0   \n",
       "1 2017-01-02        1        1                   0                        0   \n",
       "2 2017-01-03        2        0                   1                        2   \n",
       "3 2017-01-04        3        0                   0                        0   \n",
       "4 2017-01-05        4        0                   0                        0   \n",
       "\n",
       "   special vacation  quarter  month of quarter  week of month  \n",
       "0                 0        1                 1              1  \n",
       "1                 0        1                 1              1  \n",
       "2                 1        1                 1              1  \n",
       "3                 0        1                 1              1  \n",
       "4                 0        1                 1              1  "
      ]
     },
     "execution_count": 12,
     "metadata": {},
     "output_type": "execute_result"
    }
   ],
   "source": [
    "# there is a file mapping called:C://Users/fang.jia/Desktop/Project/Arrow/Model 5/节假日mapping.xlsx\n",
    "# I don't find that mapping file, but there is a mapping file in xgboost, so I just use this file.\n",
    "mapping_path = \"C:/Users/guangqiiang.lu/Downloads/model-asset/xgboost\"\n",
    "\n",
    "mapping_file = [x for x in os.listdir(mapping_path) if 'mapping' in x.lower()][0]\n",
    "\n",
    "# load mapping file\n",
    "mapping = pd.read_excel(os.path.join(mapping_path, mapping_file), encoding='utf-8')\n",
    "\n",
    "mapping.head()"
   ]
  },
  {
   "cell_type": "code",
   "execution_count": 13,
   "metadata": {},
   "outputs": [
    {
     "name": "stdout",
     "output_type": "stream",
     "text": [
      "How many mapping records: (1461, 2)\n"
     ]
    },
    {
     "data": {
      "text/html": [
       "<div>\n",
       "<style scoped>\n",
       "    .dataframe tbody tr th:only-of-type {\n",
       "        vertical-align: middle;\n",
       "    }\n",
       "\n",
       "    .dataframe tbody tr th {\n",
       "        vertical-align: top;\n",
       "    }\n",
       "\n",
       "    .dataframe thead th {\n",
       "        text-align: right;\n",
       "    }\n",
       "</style>\n",
       "<table border=\"1\" class=\"dataframe\">\n",
       "  <thead>\n",
       "    <tr style=\"text-align: right;\">\n",
       "      <th></th>\n",
       "      <th>index</th>\n",
       "      <th>Month</th>\n",
       "    </tr>\n",
       "  </thead>\n",
       "  <tbody>\n",
       "    <tr>\n",
       "      <th>0</th>\n",
       "      <td>0</td>\n",
       "      <td>2017-01-01</td>\n",
       "    </tr>\n",
       "    <tr>\n",
       "      <th>1</th>\n",
       "      <td>1</td>\n",
       "      <td>2017-01-02</td>\n",
       "    </tr>\n",
       "    <tr>\n",
       "      <th>2</th>\n",
       "      <td>2</td>\n",
       "      <td>2017-01-03</td>\n",
       "    </tr>\n",
       "    <tr>\n",
       "      <th>3</th>\n",
       "      <td>3</td>\n",
       "      <td>2017-01-04</td>\n",
       "    </tr>\n",
       "    <tr>\n",
       "      <th>4</th>\n",
       "      <td>4</td>\n",
       "      <td>2017-01-05</td>\n",
       "    </tr>\n",
       "  </tbody>\n",
       "</table>\n",
       "</div>"
      ],
      "text/plain": [
       "   index      Month\n",
       "0      0 2017-01-01\n",
       "1      1 2017-01-02\n",
       "2      2 2017-01-03\n",
       "3      3 2017-01-04\n",
       "4      4 2017-01-05"
      ]
     },
     "execution_count": 13,
     "metadata": {},
     "output_type": "execute_result"
    }
   ],
   "source": [
    "# just get mapping date\n",
    "mapping_new = mapping['date']\n",
    "# reset index\n",
    "mapping_new = mapping_new.reset_index(name = 'date')\n",
    "\n",
    "# rename columns\n",
    "mapping_new.columns = ['index','Month']\n",
    "\n",
    "print(\"How many mapping records:\", mapping_new.shape)\n",
    "\n",
    "mapping_new.head()\n"
   ]
  },
  {
   "cell_type": "code",
   "execution_count": 15,
   "metadata": {},
   "outputs": [
    {
     "name": "stdout",
     "output_type": "stream",
     "text": [
      "Min date: 2018-01-02 00:00:00, max date: 2020-04-28 00:00:00\n"
     ]
    }
   ],
   "source": [
    "# get min and max date\n",
    "min_date = data_new['Month'].min()\n",
    "max_date = data_new['Month'].max()\n",
    "\n",
    "print('Min date: {}, max date: {}'.format(min_date, max_date))"
   ]
  },
  {
   "cell_type": "code",
   "execution_count": 18,
   "metadata": {},
   "outputs": [
    {
     "name": "stdout",
     "output_type": "stream",
     "text": [
      "Mapping_new shape: (1461, 2)\n",
      "Raw date shape: (848, 2)\n"
     ]
    },
    {
     "data": {
      "text/html": [
       "<div>\n",
       "<style scoped>\n",
       "    .dataframe tbody tr th:only-of-type {\n",
       "        vertical-align: middle;\n",
       "    }\n",
       "\n",
       "    .dataframe tbody tr th {\n",
       "        vertical-align: top;\n",
       "    }\n",
       "\n",
       "    .dataframe thead th {\n",
       "        text-align: right;\n",
       "    }\n",
       "</style>\n",
       "<table border=\"1\" class=\"dataframe\">\n",
       "  <thead>\n",
       "    <tr style=\"text-align: right;\">\n",
       "      <th></th>\n",
       "      <th>Month</th>\n",
       "      <th>Amount</th>\n",
       "    </tr>\n",
       "  </thead>\n",
       "  <tbody>\n",
       "    <tr>\n",
       "      <th>366</th>\n",
       "      <td>2018-01-02</td>\n",
       "      <td>1.964215e+06</td>\n",
       "    </tr>\n",
       "    <tr>\n",
       "      <th>367</th>\n",
       "      <td>2018-01-03</td>\n",
       "      <td>2.755046e+05</td>\n",
       "    </tr>\n",
       "    <tr>\n",
       "      <th>368</th>\n",
       "      <td>2018-01-04</td>\n",
       "      <td>0.000000e+00</td>\n",
       "    </tr>\n",
       "    <tr>\n",
       "      <th>369</th>\n",
       "      <td>2018-01-05</td>\n",
       "      <td>3.514239e+06</td>\n",
       "    </tr>\n",
       "    <tr>\n",
       "      <th>370</th>\n",
       "      <td>2018-01-06</td>\n",
       "      <td>0.000000e+00</td>\n",
       "    </tr>\n",
       "  </tbody>\n",
       "</table>\n",
       "</div>"
      ],
      "text/plain": [
       "         Month        Amount\n",
       "366 2018-01-02  1.964215e+06\n",
       "367 2018-01-03  2.755046e+05\n",
       "368 2018-01-04  0.000000e+00\n",
       "369 2018-01-05  3.514239e+06\n",
       "370 2018-01-06  0.000000e+00"
      ]
     },
     "execution_count": 18,
     "metadata": {},
     "output_type": "execute_result"
    }
   ],
   "source": [
    "# let's merge mapping and date_new according to month column infact is `date`\n",
    "rawdata_fin = mapping_new.merge(data_new,how = 'left',on = ['Month'])\n",
    "\n",
    "# in case there are any date with NAN, just fillin with 0, \n",
    "#### Noted: As there is one step that wants to check the missing value ratio, if just fillna(0), there won't be any missing value.\n",
    "rawdata_f = rawdata_fin[['Month','Amount']].fillna(0)\n",
    "\n",
    "# this is to ensure that the new data should satisfy date should upper than min_date and lower than max_date\n",
    "# as maybe mapping date has more date than rawdata\n",
    "rawdata = rawdata_f[(rawdata_f['Month']>=min_date)&(rawdata_f['Month']<=max_date)]\n",
    "\n",
    "# so that you could see that there are more date in mapping.\n",
    "print(\"Mapping_new shape:\", mapping_new.shape)\n",
    "print(\"Raw date shape:\", rawdata.shape)\n",
    "rawdata.head()"
   ]
  },
  {
   "cell_type": "markdown",
   "metadata": {},
   "source": [
    "#### 模型前数据处理处理——缺失值处理\n",
    "统计缺失值数量"
   ]
  },
  {
   "cell_type": "code",
   "execution_count": 25,
   "metadata": {},
   "outputs": [
    {
     "name": "stdout",
     "output_type": "stream",
     "text": [
      "Missing records:     index  missNum\n",
      "0   Month        0\n",
      "1  Amount        0\n",
      "Missing order: Empty DataFrame\n",
      "Columns: [index, missNum, missRate]\n",
      "Index: []\n"
     ]
    },
    {
     "data": {
      "image/png": "[encoded data removed]",
      "text/plain": [
       "<Figure size 1296x432 with 1 Axes>"
      ]
     },
     "metadata": {},
     "output_type": "display_data"
    }
   ],
   "source": [
    "# this is to check how many records are nan\n",
    "missing=rawdata.isnull().sum().reset_index().rename(columns={0:'missNum'})\n",
    "\n",
    "# you could see that there isn't any missing value for each column, as both are 0\n",
    "print(\"Missing records:\", missing.head())\n",
    "\n",
    "#计算缺失比例\n",
    "missing['missRate']=missing['missNum']/data.shape[0]\n",
    "\n",
    "#按照缺失率排序显示\n",
    "miss_analy=missing[missing.missRate>0].sort_values(by='missRate',ascending=False)\n",
    "\n",
    "# empty dataframe\n",
    "print(\"Missing order:\", miss_analy.head())\n",
    "\n",
    "#用图形展示缺失值情况\n",
    "fig = plt.figure(figsize=(18,6))\n",
    "plt.bar(np.arange(miss_analy.shape[0]), list(miss_analy.missRate.values), align = 'center',color=['red','green','yellow','steelblue'])\n",
    "plt.title('Histogram of missing value of variables')\n",
    "plt.xlabel('variables names')\n",
    "plt.ylabel('missing rate')\n",
    "\n",
    "# 添加x轴标签，并旋转90度\n",
    "plt.xticks(np.arange(miss_analy.shape[0]),list(miss_analy['index']))\n",
    "pl.xticks(rotation=90)\n",
    "\n",
    "# 添加数值显示\n",
    "for x,y in enumerate(list(miss_analy.missRate.values)):\n",
    "    plt.text(x,y+0.12,'{:.2%}'.format(y),ha='center',rotation=90)    \n",
    "plt.ylim([0,1.2]) \n",
    "plt.show()"
   ]
  },
  {
   "cell_type": "code",
   "execution_count": 26,
   "metadata": {},
   "outputs": [],
   "source": [
    "#去掉缺失比例大于80%以上的变量——人工判断\n",
    "rawdata=rawdata.dropna(thresh=len(rawdata)*0.2, axis=1)"
   ]
  },
  {
   "cell_type": "markdown",
   "metadata": {},
   "source": [
    "### Missing data imputation with KNN\n",
    "\n",
    "If there are some missing values in each columns, there are some ways that we could take to process the missing value, like `mean value`, `most frequent value`, `algorithm based imputation` etc. means that we could use some algorithms to impute the missing value to do the prediction for missing value based on non-missing value data, logic is: get non-missing data, use these data to fit model, then do prediction on those missing features."
   ]
  },
  {
   "cell_type": "code",
   "execution_count": 27,
   "metadata": {},
   "outputs": [],
   "source": [
    "# this is to construct model based on missing columns\n",
    "def knn_filled(key,x_train, y_train, test_x, k = 3, dispersed = True):\n",
    "    if dispersed:\n",
    "        clf = KNeighborsClassifier(n_neighbors = k, weights = \"distance\")\n",
    "    else:\n",
    "        clf = KNeighborsRegressor(n_neighbors = k, weights = \"distance\")    \n",
    "    clf.fit(x_train, y_train)\n",
    "    test_y = clf.predict(test_x)\n",
    "    (x,y) = x_train.append(test_x),y_train.append(test_y)\n",
    "    data = pd.concat(key,x,y)\n",
    "    return data"
   ]
  },
  {
   "cell_type": "code",
   "execution_count": 32,
   "metadata": {},
   "outputs": [
    {
     "name": "stdout",
     "output_type": "stream",
     "text": [
      "the null date:  Series([], Name: Month, dtype: datetime64[ns])\n"
     ]
    }
   ],
   "source": [
    "#使用定义的knn对数据进行补充\n",
    "imputed_data = pd.DataFrame()\n",
    "\n",
    "# this is to get the keys that are nan\n",
    "selected_q = rawdata[rawdata['Month'].isna()]['Month']\n",
    "\n",
    "# so currently there isn't any missing value.\n",
    "print(\"the null date: \", selected_q)\n",
    "\n",
    "for i in selected_q:\n",
    "    i_1 = rawdata[rawdata['Month'] == i]\n",
    "    Cos_impute = knn_filled(i,i_1['Month'][i_1['Amount'].notna()],i_1['Amount'][i_1['Amount'].notna()],i_1['Month'][i_1['Amount'].isna()],k = 5,dispersed = False)\n",
    "    imputed_data = imputed_data.append(Cos_impute)"
   ]
  },
  {
   "cell_type": "code",
   "execution_count": 36,
   "metadata": {},
   "outputs": [
    {
     "name": "stdout",
     "output_type": "stream",
     "text": [
      "input the test start date(yyyy-mm-dd):2019-01-01\n",
      "input the test end date(yyyy-mm-dd):2020-01-01\n"
     ]
    }
   ],
   "source": [
    "# this for time series training data start date\n",
    "start = input('input the test start date(yyyy-mm-dd):')\n",
    "end = input('input the test end date(yyyy-mm-dd):')"
   ]
  },
  {
   "cell_type": "code",
   "execution_count": 37,
   "metadata": {},
   "outputs": [
    {
     "name": "stdout",
     "output_type": "stream",
     "text": [
      "Model data shape (848, 1)\n",
      "TS data shape: (364, 1)\n"
     ]
    }
   ],
   "source": [
    "#时间序列数据处理\n",
    "#时间索引  \n",
    "Model_data = copy.copy(rawdata)\n",
    "\n",
    "# set index as month\n",
    "Model_data.set_index([\"Month\"], inplace=True)\n",
    "\n",
    "# set month index as date\n",
    "Model_data.index = pd.to_datetime(Model_data.index)\n",
    "\n",
    "# get time series data above start\n",
    "ts_data = Model_data[Model_data.index < start]\n",
    "\n",
    "print(\"Model data shape\", Model_data.shape)\n",
    "print(\"TS data shape:\", ts_data.shape)"
   ]
  },
  {
   "cell_type": "markdown",
   "metadata": {},
   "source": [
    "##### adfuller \n",
    "\n",
    "this is a test to check whether or not the data is series correlation, you could just keep in mind is to check whether or not the target is series correlation, you could check it [here](https://www.statsmodels.org/dev/generated/statsmodels.tsa.stattools.adfuller.html).\n",
    "\n",
    "The null hypothesis of the Augmented Dickey-Fuller is that there is a unit root(单位根检验), with the alternative that there is no unit root. If the pvalue is above a critical size, then we cannot reject that there is a unit root."
   ]
  },
  {
   "cell_type": "code",
   "execution_count": 38,
   "metadata": {},
   "outputs": [
    {
     "name": "stdout",
     "output_type": "stream",
     "text": [
      "p value: 0.005727993167434378\n"
     ]
    }
   ],
   "source": [
    "#通过p值判断是否稳定\n",
    "p = adfuller(ts_data['Amount'])[1]\n",
    "print('p value:', p)"
   ]
  },
  {
   "cell_type": "code",
   "execution_count": 50,
   "metadata": {},
   "outputs": [
    {
     "name": "stdout",
     "output_type": "stream",
     "text": [
      "[]\n"
     ]
    }
   ],
   "source": [
    "#对不平稳的数据进行数据平滑\n",
    "time_series_diff = ts_data['Amount']\n",
    "diff_times = 10\n",
    "first_values = []\n",
    "\n",
    "# this is to check 10 days.\n",
    "# in fact currently p is less than 0.05, so it just stop with one time\n",
    "for i in range(1, diff_times+1):\n",
    "    if p>0.05:\n",
    "        first_values.append(pd.Series([time_series_diff[0]],index=[time_series_diff.index[0]]))\n",
    "        # this is to move the data from day1 to day2: like a=[1, 2, 3], diff(1) will be [nan, 1, 2]\n",
    "        time_series_diff = time_series_diff.diff(1).dropna()\n",
    "        # this is to check the next n-day's is series correlation or not, if true, we could check next day\n",
    "        p = adfuller(time_series_diff)[1]\n",
    "    else:\n",
    "        diff_times = i - 1\n",
    "        break\n",
    "        \n",
    "print(first_values)"
   ]
  },
  {
   "cell_type": "markdown",
   "metadata": {},
   "source": [
    "###### Ljung-Box test\n",
    "\n",
    "Ljung-Box test of autocorrelation in residuals, just to check whether or not could do time series, you could find some detail [explain](https://www.statsmodels.org/stable/generated/statsmodels.stats.diagnostic.acorr_ljungbox.html)."
   ]
  },
  {
   "cell_type": "code",
   "execution_count": 52,
   "metadata": {},
   "outputs": [
    {
     "name": "stdout",
     "output_type": "stream",
     "text": [
      "5.419660908022273e-21\n",
      "True\n"
     ]
    }
   ],
   "source": [
    "model_data = copy.copy(time_series_diff)\n",
    "#白噪声检验——差分到数据平稳后p>0.05,未通过白噪声检验，不适合做时间序列\n",
    "p_ts = min(acorr_ljungbox(model_data)[1])\n",
    "\n",
    "# so this data could use time series\n",
    "print(p_ts)\n",
    "print(p_ts<0.05)"
   ]
  },
  {
   "cell_type": "code",
   "execution_count": 55,
   "metadata": {},
   "outputs": [
    {
     "name": "stdout",
     "output_type": "stream",
     "text": [
      "best p:2, best q:2\n"
     ]
    }
   ],
   "source": [
    "#数据平稳后，需要对模型定阶，即确定p、q的阶数\n",
    "# AIC is a metric that we could use to find best p and q value\n",
    "AIC = sm.tsa.arma_order_select_ic(model_data,max_ar=6,max_ma=4,ic='aic')['aic_min_order']  # AIC\n",
    "p = AIC[0]\n",
    "q = AIC[1]\n",
    "\n",
    "print(\"best p:{}, best q:{}\".format(p, q))"
   ]
  },
  {
   "cell_type": "code",
   "execution_count": 57,
   "metadata": {},
   "outputs": [
    {
     "data": {
      "text/html": [
       "<div>\n",
       "<style scoped>\n",
       "    .dataframe tbody tr th:only-of-type {\n",
       "        vertical-align: middle;\n",
       "    }\n",
       "\n",
       "    .dataframe tbody tr th {\n",
       "        vertical-align: top;\n",
       "    }\n",
       "\n",
       "    .dataframe thead th {\n",
       "        text-align: right;\n",
       "    }\n",
       "</style>\n",
       "<table border=\"1\" class=\"dataframe\">\n",
       "  <thead>\n",
       "    <tr style=\"text-align: right;\">\n",
       "      <th></th>\n",
       "      <th>p_value</th>\n",
       "      <th>diff_times</th>\n",
       "      <th>p</th>\n",
       "      <th>q</th>\n",
       "    </tr>\n",
       "  </thead>\n",
       "  <tbody>\n",
       "    <tr>\n",
       "      <th>0</th>\n",
       "      <td>5.419661e-21</td>\n",
       "      <td>0.0</td>\n",
       "      <td>2.0</td>\n",
       "      <td>2.0</td>\n",
       "    </tr>\n",
       "  </tbody>\n",
       "</table>\n",
       "</div>"
      ],
      "text/plain": [
       "        p_value  diff_times    p    q\n",
       "0  5.419661e-21         0.0  2.0  2.0"
      ]
     },
     "execution_count": 57,
     "metadata": {},
     "output_type": "execute_result"
    }
   ],
   "source": [
    "# let's make it into a dataframe, you could do these steps, or you couldn't do that, don't affact the logic, \n",
    "# just to check the best value and best diff_times with p_value\n",
    "# first to make it into a dictionary\n",
    "p_dict = {'p_value':p_ts,'diff_times':diff_times,'p':p,'q':q}\n",
    "\n",
    "# create dataframe from dictionary\n",
    "p_value = pd.DataFrame.from_dict(p_dict,orient='index').T\n",
    "\n",
    "p_value.head()"
   ]
  },
  {
   "cell_type": "code",
   "execution_count": 59,
   "metadata": {},
   "outputs": [
    {
     "name": "stdout",
     "output_type": "stream",
     "text": [
      "[ 983842.10711891 2713736.68375665 3587861.58355446 2947691.34671377\n",
      " 1276124.81966427]\n"
     ]
    }
   ],
   "source": [
    "# alright, we have done preprocessing step, now we could start our training step\n",
    "# get how many satisfy data according month between start and end date.\n",
    "length = len(mapping_new['Month'][(mapping_new['Month']>=start)&(mapping_new['Month']<=end)].tolist())\n",
    "\n",
    "# this is to construct the model based on best p and q value\n",
    "model = ARMA(model_data, order=(p,q)) \n",
    "# model training\n",
    "result_arima = model.fit()\n",
    "\n",
    "# get prediction on training data from start date to end date.\n",
    "predict_ts = result_arima.forecast(length)[0]\n",
    "\n",
    "print(predict_ts[:5])"
   ]
  },
  {
   "cell_type": "code",
   "execution_count": 61,
   "metadata": {},
   "outputs": [
    {
     "data": {
      "text/plain": [
       "[]"
      ]
     },
     "execution_count": 61,
     "metadata": {},
     "output_type": "execute_result"
    }
   ],
   "source": [
    "first_values"
   ]
  },
  {
   "cell_type": "code",
   "execution_count": 62,
   "metadata": {},
   "outputs": [
    {
     "name": "stdout",
     "output_type": "stream",
     "text": [
      "[ 983842.10711891 2713736.68375665 3587861.58355446 2947691.34671377\n",
      " 1276124.81966427]\n"
     ]
    }
   ],
   "source": [
    "#多次差分及差分还原\n",
    "# as maybe we have used some residual in training, currently doesn't use any residuals\n",
    "# if so we could do cumulative sum\n",
    "time_series_restored = predict_ts\n",
    "for first in reversed(first_values):\n",
    "    time_series_restored = first.append(time_series_restored).cumsum()\n",
    "\n",
    "print(time_series_restored[:5])"
   ]
  },
  {
   "cell_type": "code",
   "execution_count": 63,
   "metadata": {},
   "outputs": [
    {
     "data": {
      "text/html": [
       "<div>\n",
       "<style scoped>\n",
       "    .dataframe tbody tr th:only-of-type {\n",
       "        vertical-align: middle;\n",
       "    }\n",
       "\n",
       "    .dataframe tbody tr th {\n",
       "        vertical-align: top;\n",
       "    }\n",
       "\n",
       "    .dataframe thead th {\n",
       "        text-align: right;\n",
       "    }\n",
       "</style>\n",
       "<table border=\"1\" class=\"dataframe\">\n",
       "  <thead>\n",
       "    <tr style=\"text-align: right;\">\n",
       "      <th></th>\n",
       "      <th>Month</th>\n",
       "      <th>Amount</th>\n",
       "      <th>predict</th>\n",
       "      <th>quarter</th>\n",
       "      <th>week of month</th>\n",
       "      <th>month of quarter</th>\n",
       "      <th>key</th>\n",
       "    </tr>\n",
       "  </thead>\n",
       "  <tbody>\n",
       "    <tr>\n",
       "      <th>0</th>\n",
       "      <td>2019-01-01</td>\n",
       "      <td>0.000000e+00</td>\n",
       "      <td>9.838421e+05</td>\n",
       "      <td>1</td>\n",
       "      <td>1</td>\n",
       "      <td>1</td>\n",
       "      <td>1-1-1</td>\n",
       "    </tr>\n",
       "    <tr>\n",
       "      <th>1</th>\n",
       "      <td>2019-01-02</td>\n",
       "      <td>5.582180e+05</td>\n",
       "      <td>2.713737e+06</td>\n",
       "      <td>1</td>\n",
       "      <td>1</td>\n",
       "      <td>1</td>\n",
       "      <td>1-1-1</td>\n",
       "    </tr>\n",
       "    <tr>\n",
       "      <th>2</th>\n",
       "      <td>2019-01-03</td>\n",
       "      <td>7.445970e+06</td>\n",
       "      <td>3.587862e+06</td>\n",
       "      <td>1</td>\n",
       "      <td>1</td>\n",
       "      <td>1</td>\n",
       "      <td>1-1-1</td>\n",
       "    </tr>\n",
       "    <tr>\n",
       "      <th>3</th>\n",
       "      <td>2019-01-04</td>\n",
       "      <td>2.966186e+06</td>\n",
       "      <td>2.947691e+06</td>\n",
       "      <td>1</td>\n",
       "      <td>1</td>\n",
       "      <td>1</td>\n",
       "      <td>1-1-1</td>\n",
       "    </tr>\n",
       "    <tr>\n",
       "      <th>4</th>\n",
       "      <td>2019-01-05</td>\n",
       "      <td>0.000000e+00</td>\n",
       "      <td>1.276125e+06</td>\n",
       "      <td>1</td>\n",
       "      <td>1</td>\n",
       "      <td>1</td>\n",
       "      <td>1-1-1</td>\n",
       "    </tr>\n",
       "  </tbody>\n",
       "</table>\n",
       "</div>"
      ],
      "text/plain": [
       "       Month        Amount       predict  quarter  week of month  \\\n",
       "0 2019-01-01  0.000000e+00  9.838421e+05        1              1   \n",
       "1 2019-01-02  5.582180e+05  2.713737e+06        1              1   \n",
       "2 2019-01-03  7.445970e+06  3.587862e+06        1              1   \n",
       "3 2019-01-04  2.966186e+06  2.947691e+06        1              1   \n",
       "4 2019-01-05  0.000000e+00  1.276125e+06        1              1   \n",
       "\n",
       "   month of quarter    key  \n",
       "0                 1  1-1-1  \n",
       "1                 1  1-1-1  \n",
       "2                 1  1-1-1  \n",
       "3                 1  1-1-1  \n",
       "4                 1  1-1-1  "
      ]
     },
     "execution_count": 63,
     "metadata": {},
     "output_type": "execute_result"
    }
   ],
   "source": [
    "#查看模型准确率\n",
    "forecast = pd.DataFrame()\n",
    "forecast['predict'] = predict_ts\n",
    "\n",
    "# ensure there isn't any negative value\n",
    "forecast['predict'] = forecast['predict'].apply(lambda x:0 if x<0 else x)\n",
    "\n",
    "# ensure the target value is between start and end date\n",
    "forecast['Month'] = mapping_new['Month'][(mapping_new['Month']>=start)&(mapping_new['Month']<=end)].tolist()\n",
    "\n",
    "# merge raw data and prediction data.\n",
    "out_forecast  = pd.merge(rawdata,forecast, how = 'right', on = ['Month'])\n",
    "\n",
    "# merge mapping file.\n",
    "out_forecast_mapping = out_forecast.merge(mapping,how = 'left' ,left_on = ['Month'],right_on = ['date'])\n",
    "\n",
    "# just get some columns that we need to use.\n",
    "output = out_forecast_mapping[['Month','Amount','predict','quarter','week of month','month of quarter']]\n",
    "\n",
    "# convert the key to : quarter + month of quarter + week of month\n",
    "output['key'] = output['quarter'].astype(str)+'-'+output['month of quarter'].astype(str)+'-'+output['week of month'].astype(str)\n",
    "\n",
    "# let's check.\n",
    "output.head()"
   ]
  },
  {
   "cell_type": "code",
   "execution_count": 64,
   "metadata": {},
   "outputs": [
    {
     "name": "stdout",
     "output_type": "stream",
     "text": [
      "Whether to include '2020-02'(y/n):y\n"
     ]
    }
   ],
   "source": [
    "choose = input(\"Whether to include '2020-02'(y/n):\")\n",
    "\n",
    "if choose == \"y\":\n",
    "    output_new = output[['key','Month','Amount','predict']]\n",
    "elif choose ==\"n\":\n",
    "    output['flag'] = output['Month'].apply(lambda x:x.month)\n",
    "    output_new = output[['key','Month','Amount','predict']][output['flag']!=2]    \n",
    "else:print(\"please input true choose!\")"
   ]
  },
  {
   "cell_type": "code",
   "execution_count": 65,
   "metadata": {},
   "outputs": [
    {
     "name": "stdout",
     "output_type": "stream",
     "text": [
      "Output shape: (366, 7)\n"
     ]
    }
   ],
   "source": [
    "print(\"Output shape:\", output.shape)"
   ]
  },
  {
   "cell_type": "code",
   "execution_count": 68,
   "metadata": {},
   "outputs": [
    {
     "name": "stdout",
     "output_type": "stream",
     "text": [
      "accuracy:\n",
      "0.5340991781478869\n",
      "******************************\n",
      "p-value:\n",
      "        p_value  diff_times    p    q\n",
      "0  5.419661e-21         0.0  2.0  2.0\n",
      "******************************\n",
      "output dataframe show:\n",
      "     key        Amount       predict  accuracy\n",
      "0  1-1-1  1.097037e+07  1.441542e+07  0.685968\n",
      "1  1-1-2  9.892965e+06  1.150643e+07  0.836907\n",
      "2  1-1-3  7.696940e+06  1.150358e+07  0.505435\n",
      "3  1-1-4  2.251476e+07  1.150068e+07  0.510806\n",
      "4  1-2-1  1.800691e+07  1.149775e+07  0.638519\n"
     ]
    }
   ],
   "source": [
    "# this is to process the output_new dataframe according key\n",
    "# sum of Amount according to key\n",
    "output_fin_1 = output_new.groupby('key', as_index = False)['Amount'].sum()\n",
    "\n",
    "# sum of predict according to key\n",
    "output_fin_2 = output_new.groupby('key', as_index = False)['predict'].sum()\n",
    "\n",
    "# merge these two dataframe\n",
    "output_fin = output_fin_1.merge(output_fin_2,how = 'left',on = 'key')\n",
    "\n",
    "# compute the accuracy based on 1 - (target - pred) / target\n",
    "output_fin['accuracy'] = 1-abs(output_fin['Amount']-output_fin['predict'])/output_fin['Amount']\n",
    "\n",
    "\n",
    "# get accuracy mean score based on Amount not 0\n",
    "accuracy = output_fin['accuracy'][output_fin['Amount']!=0].mean()\n",
    "\n",
    "print(\"accuracy:\")\n",
    "print(accuracy, end='\\n')\n",
    "print(\"*\" * 30)\n",
    "\n",
    "print(\"p-value:\")\n",
    "print(p_value, end='\\n')\n",
    "print(\"*\" * 30)\n",
    "\n",
    "print(\"output dataframe show:\")\n",
    "print(output_fin.head())"
   ]
  },
  {
   "cell_type": "code",
   "execution_count": 69,
   "metadata": {},
   "outputs": [
    {
     "name": "stdout",
     "output_type": "stream",
     "text": [
      "0.12022219671525303\n"
     ]
    }
   ],
   "source": [
    "#模型拟合优度检验\n",
    "# get training target\n",
    "train = ts_data[ts_data.index<start]['Amount']\n",
    "# result_arima.fittedvalues:  this is model training prediction on target \n",
    "delta = result_arima.fittedvalues - train    # residual\n",
    "\n",
    "# score is based on :1 - residual variane/ train variance.\n",
    "score = 1 - delta.var()/train.var()\n",
    "\n",
    "print(score)"
   ]
  },
  {
   "cell_type": "markdown",
   "metadata": {},
   "source": [
    "### Last words\n",
    "\n",
    "You do could use other metrics to evaluate the model prediction result like `r2-score`, `RMSE` etc. So this is whole logic for ARIMA."
   ]
  },
  {
   "cell_type": "code",
   "execution_count": null,
   "metadata": {},
   "outputs": [],
   "source": []
  }
 ],
 "metadata": {
  "kernelspec": {
   "display_name": "Python 3",
   "language": "python",
   "name": "python3"
  },
  "language_info": {
   "codemirror_mode": {
    "name": "ipython",
    "version": 3
   },
   "file_extension": ".py",
   "mimetype": "text/x-python",
   "name": "python",
   "nbconvert_exporter": "python",
   "pygments_lexer": "ipython3",
   "version": "3.6.5"
  }
 },
 "nbformat": 4,
 "nbformat_minor": 2
}
