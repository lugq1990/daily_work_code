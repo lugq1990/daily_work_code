{
 "cells": [
  {
   "cell_type": "code",
   "execution_count": 6,
   "metadata": {},
   "outputs": [
    {
     "data": {
      "image/png": "[encoded data removed]",
      "text/plain": [
       "<Figure size 432x288 with 1 Axes>"
      ]
     },
     "metadata": {
      "needs_background": "light"
     },
     "output_type": "display_data"
    }
   ],
   "source": [
    "import numpy as np\n",
    "import matplotlib.pyplot as plt\n",
    "\n",
    "data = np.array([2, 5, 7, 10, 12])\n",
    "label = np.array([0, 1, 1, 0, 0])\n",
    "\n",
    "plt.scatter(data, label)\n",
    "plt.plot([0.5]*max(data))\n",
    "plt.show()"
   ]
  },
  {
   "cell_type": "code",
   "execution_count": 7,
   "metadata": {},
   "outputs": [
    {
     "data": {
      "text/plain": [
       "array([-0.5,  0.5,  0.5, -0.5, -0.5])"
      ]
     },
     "execution_count": 7,
     "metadata": {},
     "output_type": "execute_result"
    }
   ],
   "source": [
    "# compute residual\n",
    "init_prob = 0.5\n",
    "\n",
    "res = label - init_prob\n",
    "\n",
    "res"
   ]
  },
  {
   "cell_type": "code",
   "execution_count": 12,
   "metadata": {},
   "outputs": [
    {
     "data": {
      "text/plain": [
       "0.2"
      ]
     },
     "execution_count": 12,
     "metadata": {},
     "output_type": "execute_result"
    }
   ],
   "source": [
    "# compute root similiarity score\n",
    "def score(res, prob_list, lam=0):\n",
    "    return np.sum(res)**2 / (np.sum([x*(1-x) for x in prob_list]) + lam)\n",
    "\n",
    "init_prob_list = np.array([init_prob] * len(data))\n",
    "root_score = score(res, init_prob_list)\n",
    "root_score"
   ]
  },
  {
   "cell_type": "code",
   "execution_count": 16,
   "metadata": {},
   "outputs": [],
   "source": [
    "# based on each feature to get split value\n",
    "mid_value = [(data[i] + data[i+1])/2 for i in range(len(data) - 1)]\n",
    "\n",
    "gain_list = []\n",
    "\n",
    "for mid in mid_value:\n",
    "    left_sati = data <= mid\n",
    "    right_sati = data > mid\n",
    "\n",
    "    left_res = res[left_sati]\n",
    "    right_res = res[right_sati]\n",
    "    left_prob = init_prob_list[left_sati]\n",
    "    right_prob = init_prob_list[right_sati]\n",
    "\n",
    "    left_gain = score(left_res, left_prob)\n",
    "    right_gain = score(right_res, right_prob)\n",
    "\n",
    "    final_gain = left_gain + right_gain - root_score\n",
    "    gain_list.append(final_gain)"
   ]
  },
  {
   "cell_type": "code",
   "execution_count": 17,
   "metadata": {},
   "outputs": [
    {
     "data": {
      "text/plain": [
       "[0.8, 0.1333333333333333, 2.1333333333333333, 0.8]"
      ]
     },
     "execution_count": 17,
     "metadata": {},
     "output_type": "execute_result"
    }
   ],
   "source": [
    "gain_list"
   ]
  },
  {
   "cell_type": "code",
   "execution_count": 20,
   "metadata": {},
   "outputs": [
    {
     "name": "stdout",
     "output_type": "stream",
     "text": [
      "get split value 8.5\n"
     ]
    }
   ],
   "source": [
    "# get gain max index\n",
    "max_gain_index = np.argmax(gain_list)\n",
    "\n",
    "split_value = mid_value[max_gain_index]\n",
    "\n",
    "print(\"get split value\", split_value)"
   ]
  },
  {
   "cell_type": "code",
   "execution_count": 23,
   "metadata": {},
   "outputs": [],
   "source": [
    "def node_pred(res, prob_list, lam=0):\n",
    "    return np.sum(res) / (np.sum([x*(1-x) for x in prob_list]) + lam)\n",
    "\n"
   ]
  },
  {
   "cell_type": "code",
   "execution_count": 24,
   "metadata": {},
   "outputs": [
    {
     "name": "stdout",
     "output_type": "stream",
     "text": [
      "left pred: 0.6666666666666666\n",
      "right pred: -2.0\n"
     ]
    }
   ],
   "source": [
    "# make first stump\n",
    "left_sati = data <= split_value\n",
    "right_sati = data > split_value\n",
    "\n",
    "left_res = res[left_sati]\n",
    "right_res = res[right_sati]\n",
    "\n",
    "left_prob = init_prob_list[left_sati]\n",
    "right_prob = init_prob_list[right_sati]\n",
    "\n",
    "left_node_pred = node_pred(left_res, left_prob)\n",
    "right_node_pred = node_pred(right_res, right_prob)\n",
    "\n",
    "print(\"left pred:\", left_node_pred)\n",
    "print(\"right pred:\", right_node_pred)\n",
    "\n"
   ]
  },
  {
   "cell_type": "code",
   "execution_count": 31,
   "metadata": {},
   "outputs": [
    {
     "name": "stdout",
     "output_type": "stream",
     "text": [
      "[0.6607563687658171, 0.6607563687658171, 0.6607563687658171, 0.11920292202211755, 0.11920292202211755]\n"
     ]
    }
   ],
   "source": [
    "# final pred\n",
    "\n",
    "# first should get init prob's log(odds)\n",
    "learning_rate = 1\n",
    "init_log_odds = np.log(init_prob / (1 - init_prob))\n",
    "\n",
    "def sigmoid(x):\n",
    "    return np.exp(x)/(1 + np.exp(x))\n",
    "\n",
    "pred_list = []\n",
    "\n",
    "for d in data:\n",
    "    if d <= split_value:\n",
    "        out = init_log_odds + learning_rate * left_node_pred\n",
    "    else:\n",
    "        out = init_log_odds + learning_rate * right_node_pred\n",
    "    \n",
    "    pred = sigmoid(out)\n",
    "    \n",
    "    pred_list.append(pred)\n",
    "    \n",
    "print(pred_list)"
   ]
  },
  {
   "cell_type": "code",
   "execution_count": 32,
   "metadata": {},
   "outputs": [
    {
     "data": {
      "image/png": "[encoded data removed]",
      "text/plain": [
       "<Figure size 432x288 with 1 Axes>"
      ]
     },
     "metadata": {
      "needs_background": "light"
     },
     "output_type": "display_data"
    }
   ],
   "source": [
    "plt.scatter(data, label)\n",
    "plt.scatter(data, pred_list)\n",
    "\n",
    "plt.plot([0.5]* max(data))\n",
    "plt.show()"
   ]
  },
  {
   "cell_type": "code",
   "execution_count": null,
   "metadata": {},
   "outputs": [],
   "source": []
  }
 ],
 "metadata": {
  "kernelspec": {
   "display_name": "Python 3",
   "language": "python",
   "name": "python3"
  },
  "language_info": {
   "codemirror_mode": {
    "name": "ipython",
    "version": 3
   },
   "file_extension": ".py",
   "mimetype": "text/x-python",
   "name": "python",
   "nbconvert_exporter": "python",
   "pygments_lexer": "ipython3",
   "version": "3.8.5"
  }
 },
 "nbformat": 4,
 "nbformat_minor": 4
}
