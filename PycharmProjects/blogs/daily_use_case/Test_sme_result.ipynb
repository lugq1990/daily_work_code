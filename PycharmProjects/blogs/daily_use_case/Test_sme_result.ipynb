{
 "cells": [
  {
   "cell_type": "code",
   "execution_count": 26,
   "id": "e536c82e-92d9-42ea-8f51-ca9560833b5d",
   "metadata": {},
   "outputs": [
    {
     "name": "stdout",
     "output_type": "stream",
     "text": [
      "['adel.reyes_StepinRights_Validation6.xlsx', 'Elisabetta.Palumbo_StepinRights_Validation6.xlsx', 'jennifer.m.balba_StepinRights_Validation6.xlsx', 'sameer.tewatia_StepinRights_Validation6.xlsx']\n"
     ]
    }
   ],
   "source": [
    "import numpy as np\n",
    "import pandas as pd\n",
    "import os\n",
    "\n",
    "\n",
    "path = r\"C:\\Users\\guangqiang.lu\\Downloads\\OneDrive_1_7-27-2021\"\n",
    "files = [x for x in os.listdir(path) if x.endswith('xlsx')]\n",
    "\n",
    "print(files)"
   ]
  },
  {
   "cell_type": "code",
   "execution_count": 40,
   "id": "f66b3a30-5d00-45cf-8eee-79b2bb04db1c",
   "metadata": {},
   "outputs": [],
   "source": [
    "\n",
    "def get_acc(path, file_name):\n",
    "    df = pd.read_excel(os.path.join(path, file_name), sheet_name=\"Exported data\")\n",
    "\n",
    "    cols = [x for x in df.columns if  'y/n' in x.lower()]\n",
    "\n",
    "    res = []\n",
    "    for col in cols:\n",
    "        res.extend(df[col].dropna().values.tolist())\n",
    "    try:\n",
    "        correct = [True for x in res if 'y' in x.lower()]\n",
    "        acc = sum(correct)/ len(res)\n",
    "        acc = round(acc, 4) * 100\n",
    "        correct_num = sum(correct)\n",
    "        wrong_num = len(res) - correct_num\n",
    "        print(\"File: {}, with correct_num: `{}` with wrong number: `{}`,  get accuracy: `{}%`\".format(file_name, correct_num, wrong_num, acc))\n",
    "    except:\n",
    "        print(\"For file: {} haven't evaluated!\".format(file_name))\n",
    "\n",
    "def get_full_smes_result(path):\n",
    "#     path = r\"C:\\Users\\guangqiang.lu\\Downloads\\OneDrive_1_7-27-2021\"\n",
    "    files = [x for x in os.listdir(path) if x.endswith('xlsx')]\n",
    "\n",
    "    print(files)\n",
    "    \n",
    "    for file in files:\n",
    "        get_acc(path, file)\n",
    "    "
   ]
  },
  {
   "cell_type": "code",
   "execution_count": 41,
   "id": "4fa68c78-ea2d-4459-b079-9a6a56fe0bdf",
   "metadata": {},
   "outputs": [
    {
     "name": "stdout",
     "output_type": "stream",
     "text": [
      "['adel.reyes_StepinRights_Validation6.xlsx', 'Elisabetta.Palumbo_StepinRights_Validation6.xlsx', 'jennifer.m.balba_StepinRights_Validation6.xlsx', 'sameer.tewatia_StepinRights_Validation6.xlsx']\n",
      "File: adel.reyes_StepinRights_Validation6.xlsx, with correct_num: `119` with wrong number: `34`,  get accuracy: `77.78%`\n",
      "For file: Elisabetta.Palumbo_StepinRights_Validation6.xlsx haven't evaluated!\n",
      "File: jennifer.m.balba_StepinRights_Validation6.xlsx, with correct_num: `225` with wrong number: `5`,  get accuracy: `97.83%`\n",
      "File: sameer.tewatia_StepinRights_Validation6.xlsx, with correct_num: `90` with wrong number: `22`,  get accuracy: `80.36%`\n"
     ]
    }
   ],
   "source": [
    "step_path = r\"C:\\Users\\guangqiang.lu\\Downloads\\OneDrive_1_7-27-2021\"\n",
    "\n",
    "get_full_smes_result(step_path)"
   ]
  },
  {
   "cell_type": "code",
   "execution_count": 42,
   "id": "1669501c-613d-4c58-9cc2-fe91fd10817f",
   "metadata": {},
   "outputs": [
    {
     "name": "stdout",
     "output_type": "stream",
     "text": [
      "['Adel.Reyes_COLA_Validation 2.xlsx', 'Elisabetta.Palumbo_COLA_Validation 2.xlsx', 'Jennifer.M.Balba_COLA_Validation 2.xlsx', 'Sameer.Tewatia_COLA_Validation 2.xlsx']\n",
      "File: Adel.Reyes_COLA_Validation 2.xlsx, with correct_num: `42` with wrong number: `21`,  get accuracy: `66.67%`\n",
      "For file: Elisabetta.Palumbo_COLA_Validation 2.xlsx haven't evaluated!\n",
      "File: Jennifer.M.Balba_COLA_Validation 2.xlsx, with correct_num: `24` with wrong number: `18`,  get accuracy: `57.14%`\n",
      "File: Sameer.Tewatia_COLA_Validation 2.xlsx, with correct_num: `34` with wrong number: `38`,  get accuracy: `47.22%`\n"
     ]
    }
   ],
   "source": [
    "cola_path = r\"C:\\Users\\guangqiang.lu\\Downloads\\OneDrive_3_7-27-2021\"\n",
    "\n",
    "get_full_smes_result(cola_path)"
   ]
  },
  {
   "cell_type": "code",
   "execution_count": 92,
   "id": "9a02869b-d290-4870-a9c7-15e163110bfd",
   "metadata": {},
   "outputs": [
    {
     "name": "stdout",
     "output_type": "stream",
     "text": [
      "File: chenhe.gao_submit.xlsx equal!\n",
      "File: fengjuan_zhang_submit.xlsx equal!\n",
      "File: haoyu_zhao_submit.xlsx equal!\n",
      "File: huiying_hu_submit.xlsx equal!\n",
      "File: jiarui_li_submit.xlsx equal!\n",
      "File: jingjing_xuan_submit.xlsx equal!\n",
      "File: lin.o.wang_submit.xlsx equal!\n",
      "File: nanxuan_xie_submit.xlsx equal!\n",
      "File: qianqian_shen_submit.xlsx equal!\n",
      "File: renmin_tian_submit.xlsx equal!\n",
      "File: shihao_zang_submit.xlsx equal!\n",
      "File: shoujun_ma_submit.xlsx equal!\n",
      "File: sicheng_liu_submit.xlsx equal!\n",
      "File: xiaotong_liu_submit.xlsx equal!\n",
      "File: xiaozhi_ming_submit.xlsx equal!\n",
      "File: xintao_a_xu_submit.xlsx equal!\n",
      "File: xinyu_cong_submit.xlsx equal!\n",
      "File: yao_s_wang_submit.xlsx equal!\n",
      "File: yuan.shuo_submit.xlsx equal!\n",
      "File: yueting_wang_submit.xlsx equal!\n",
      "File: yuhang.a.zhang_submit.xlsx equal!\n",
      "File: yuhang_qin_submit.xlsx equal!\n",
      "File: yuqing_ma_submit.xlsx equal!\n",
      "File: z.yin_submit.xlsx equal!\n",
      "File: zhien.song_submit.xlsx equal!\n",
      "File: zhiyi_liu_submit.xlsx equal!\n"
     ]
    }
   ],
   "source": [
    "path = r\"C:\\Users\\guangqiang.lu\\Downloads\\test_result\"\n",
    "\n",
    "import pandas as pd\n",
    "\n",
    "files = [x for x in os.listdir(path) if x.endswith(\"xlsx\") and not x.lower().startswith('guangqiang') and not x.startswith(\"~\")]\n",
    "\n",
    "file = \"guangqiang_lu_submit.xlsx\"\n",
    "\n",
    "base_df = pd.read_excel(os.path.join(path, file), sheet_name=[\"users\", \"part_users\", 'full_combined'])\n",
    "\n",
    "for file in files:\n",
    "    df = pd.read_excel(os.path.join(path, file), sheet_name=[\"users\", \"part_users\", 'full_combined'])\n",
    "    \n",
    "    if len(df.values()) == len(base_df.values()):\n",
    "        print(\"File: {} equal!\".format(file))\n",
    "    else:\n",
    "        print(\"Not Good news for file: {}\".format(file))\n",
    "\n",
    "    "
   ]
  },
  {
   "cell_type": "code",
   "execution_count": 108,
   "id": "b512f83f-68a3-454b-b891-06adc0bf2e27",
   "metadata": {},
   "outputs": [],
   "source": [
    "names = np.array([x.replace('_submit.xlsx', \"\").replace(\"_\", \".\") for x in files]).reshape(-1, 1)\n",
    "res = np.array(['PASS' for _ in range(len(names))]).reshape(-1, 1)\n",
    "\n",
    "res_data = np.concatenate([names, res], axis=1)\n",
    "\n",
    "\n",
    "df_res = pd.DataFrame(res_data, columns=['EID', 'SQL_RESULT'])\n",
    "\n",
    "df_res.to_excel(os.path.join(path, \"SQL_TEST.xlsx\"), index=False)"
   ]
  },
  {
   "cell_type": "code",
   "execution_count": 55,
   "id": "2bb23597-1d2f-413e-afb0-9af2a38b5a78",
   "metadata": {},
   "outputs": [],
   "source": [
    "r1 = pd.read_excel(os.path.join(path, file), sheet_name=[\"users\", \"part_users\", 'full_combined']).items()"
   ]
  },
  {
   "cell_type": "code",
   "execution_count": 56,
   "id": "74594f81-174a-4278-81c1-a9383cc45d75",
   "metadata": {},
   "outputs": [],
   "source": [
    "r2 = pd.read_excel(os.path.join(path, \"nanxuan_xie_submit.xlsx\"), sheet_name=[\"users\", \"part_users\", 'full_combined']).items()"
   ]
  },
  {
   "cell_type": "code",
   "execution_count": 86,
   "id": "cf8f31a1-7956-40ea-b850-d79a6b3d4274",
   "metadata": {},
   "outputs": [
    {
     "data": {
      "text/plain": [
       "3"
      ]
     },
     "execution_count": 86,
     "metadata": {},
     "output_type": "execute_result"
    }
   ],
   "source": [
    "len(dict(r1).values() )"
   ]
  },
  {
   "cell_type": "code",
   "execution_count": 80,
   "id": "5626c10b-8e01-4f7c-a8e0-06a414bcea49",
   "metadata": {},
   "outputs": [
    {
     "data": {
      "text/plain": [
       "3"
      ]
     },
     "execution_count": 80,
     "metadata": {},
     "output_type": "execute_result"
    }
   ],
   "source": [
    "len(list(dict(r2).values()))"
   ]
  },
  {
   "cell_type": "code",
   "execution_count": null,
   "id": "eca9233b-260c-4e11-b428-d7ddaf1f6fa9",
   "metadata": {},
   "outputs": [],
   "source": []
  }
 ],
 "metadata": {
  "kernelspec": {
   "display_name": "Python 3",
   "language": "python",
   "name": "python3"
  },
  "language_info": {
   "codemirror_mode": {
    "name": "ipython",
    "version": 3
   },
   "file_extension": ".py",
   "mimetype": "text/x-python",
   "name": "python",
   "nbconvert_exporter": "python",
   "pygments_lexer": "ipython3",
   "version": "3.8.8"
  }
 },
 "nbformat": 4,
 "nbformat_minor": 5
}
