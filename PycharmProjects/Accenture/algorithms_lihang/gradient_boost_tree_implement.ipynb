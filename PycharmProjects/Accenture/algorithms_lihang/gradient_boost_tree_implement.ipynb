{
 "cells": [
  {
   "cell_type": "markdown",
   "source": [
    "### Gradient boost tree implementation\r\n",
    "\r\n",
    "Let's try to implement GBDT with hands-on data"
   ],
   "metadata": {}
  },
  {
   "cell_type": "code",
   "execution_count": 1,
   "source": [
    "import numpy as np\r\n",
    "import matplotlib.pyplot as plt\r\n",
    "\r\n",
    "data = np.array([1, 3, 10, 11])\r\n",
    "label = np.array([-5, -4, 10, 9])\r\n",
    "\r\n",
    "plt.plot(data, label)"
   ],
   "outputs": [
    {
     "output_type": "execute_result",
     "data": {
      "text/plain": [
       "[<matplotlib.lines.Line2D at 0x2c64de8c308>]"
      ]
     },
     "metadata": {},
     "execution_count": 1
    },
    {
     "output_type": "display_data",
     "data": {
      "image/png": "[encoded data removed]",
      "text/plain": [
       "<Figure size 432x288 with 1 Axes>"
      ]
     },
     "metadata": {
      "needs_background": "light"
     }
    }
   ],
   "metadata": {}
  },
  {
   "cell_type": "code",
   "execution_count": 17,
   "source": [
    "def gain(res, la=1):\r\n",
    "    return np.sum(res)**2 / (len(res) + la)\r\n",
    "\r\n",
    "base_gain = gain(label)\r\n",
    "\r\n",
    "print(\"Root base gain: \", base_gain)\r\n",
    "\r\n"
   ],
   "outputs": [
    {
     "output_type": "stream",
     "name": "stdout",
     "text": [
      "Root base gain:  20.0\n"
     ]
    }
   ],
   "metadata": {}
  },
  {
   "cell_type": "code",
   "execution_count": 18,
   "source": [
    "# sort data and label with index, so could get interval data to compare to decide which feature to split\r\n",
    "sort_index = np.argsort(data)\r\n",
    "\r\n",
    "data = data[sort_index]\r\n",
    "label = label[sort_index]"
   ],
   "outputs": [],
   "metadata": {}
  },
  {
   "cell_type": "code",
   "execution_count": 19,
   "source": [
    "# get data split interval with mean value\r\n",
    "interval_list = [(data[i] + data[i+1])/2 for i in range(len(data)-1)]\r\n",
    "\r\n",
    "# each tree with init guess to be 0.5 for both classification and regression.\r\n",
    "base_guess = .5\r\n",
    "residual = label - base_guess\r\n",
    "\r\n",
    "# loop for each interval to get gain value\r\n",
    "gain_list = []\r\n",
    "for interval in interval_list:\r\n",
    "    left_res = residual[data <= interval]\r\n",
    "    right_res = residual[data > interval]\r\n",
    "    \r\n",
    "    left_gain = gain(left_res)\r\n",
    "    right_gain = gain(right_res)\r\n",
    "    interval_gain = left_gain + right_gain - base_gain\r\n",
    "    gain_list.append(interval_gain)\r\n",
    "\r\n",
    "print(gain_list)\r\n",
    "# largest gain should be point to split\r\n",
    "split_value = interval_list[np.argmax(gain_list)]\r\n",
    "\r\n",
    "print(\"Split value:\", split_value)\r\n",
    "print(\"Original data:\", data)\r\n"
   ],
   "outputs": [
    {
     "output_type": "stream",
     "name": "stdout",
     "text": [
      "[40.6875, 121.33333333333334, 16.1875]\n",
      "Split value: 6.5\n",
      "Original data: [ 1  3 10 11]\n"
     ]
    }
   ],
   "metadata": {}
  },
  {
   "cell_type": "code",
   "execution_count": 20,
   "source": [
    "print(\"Tree\")\r\n",
    "print(data)\r\n",
    "print(data[data < split_value],data[data >= split_value], sep='\\t')\r\n"
   ],
   "outputs": [
    {
     "output_type": "stream",
     "name": "stdout",
     "text": [
      "Tree\n",
      "[ 1  3 10 11]\n",
      "[1 3]\t[10 11]\n"
     ]
    }
   ],
   "metadata": {}
  },
  {
   "cell_type": "code",
   "execution_count": 23,
   "source": [
    "# try to get output prediction\r\n",
    "left_res = residual[data <= split_value]\r\n",
    "right_res = residual[data > split_value]\r\n",
    "\r\n",
    "left_leaf_pred = np.sum(left_res)\r\n",
    "right_leaf_pred = np.sum(right_res)\r\n",
    "\r\n",
    "print(left_leaf_pred, right_leaf_pred)"
   ],
   "outputs": [
    {
     "output_type": "stream",
     "name": "stdout",
     "text": [
      "-10.0 18.0\n"
     ]
    }
   ],
   "metadata": {}
  },
  {
   "cell_type": "code",
   "execution_count": 26,
   "source": [
    "# if data go to left, then prediction will be: 0.5 + learning_rate * pred\r\n",
    "learning_rate = .3\r\n",
    "\r\n",
    "left_pred = 0.5 + learning_rate * left_leaf_pred\r\n",
    "right_pred = .5 + learning_rate * right_leaf_pred\r\n",
    "\r\n",
    "print(left_pred, right_pred)"
   ],
   "outputs": [
    {
     "output_type": "stream",
     "name": "stdout",
     "text": [
      "-2.5 5.8999999999999995\n"
     ]
    }
   ],
   "metadata": {}
  },
  {
   "cell_type": "code",
   "execution_count": 27,
   "source": [
    "# to get each data point to get output result\r\n",
    "pred = []\r\n",
    "for x in data:\r\n",
    "    if x <= split_value:\r\n",
    "        p = left_pred\r\n",
    "    else:\r\n",
    "        p = right_pred\r\n",
    "    pred.append(p)\r\n",
    "\r\n",
    "print(pred)"
   ],
   "outputs": [
    {
     "output_type": "stream",
     "name": "stdout",
     "text": [
      "[-2.5, -2.5, 5.8999999999999995, 5.8999999999999995]\n"
     ]
    }
   ],
   "metadata": {}
  },
  {
   "cell_type": "code",
   "execution_count": 30,
   "source": [
    "# plot original data and prediction data\r\n",
    "plt.scatter(data, label, label='original')\r\n",
    "plt.scatter(data, pred, label='pred')\r\n",
    "plt.plot(data, [.5]*len(data), label='init_guess')\r\n",
    "\r\n",
    "plt.legend()\r\n",
    "plt.show()"
   ],
   "outputs": [
    {
     "output_type": "display_data",
     "data": {
      "image/png": "[encoded data removed]",
      "text/plain": [
       "<Figure size 432x288 with 1 Axes>"
      ]
     },
     "metadata": {
      "needs_background": "light"
     }
    }
   ],
   "metadata": {}
  },
  {
   "cell_type": "markdown",
   "source": [
    "### Noted:\r\n",
    "Also there is a parameter with gamma, if gain is less than gamma, will be revert 2 leaves into one leaf, min_child_weight is a regulation parameter, if leaf gain is less then cover, then leaf will be removed\r\n",
    "\r\n",
    "\r\n",
    "# Classification"
   ],
   "metadata": {}
  },
  {
   "cell_type": "code",
   "execution_count": 62,
   "source": [
    "# Let's check with classification\r\n",
    "import numpy as np\r\n",
    "import matplotlib.pyplot as plt\r\n",
    "\r\n",
    "data = np.array([1, 4, 5, 10])\r\n",
    "label = np.array([0, 1, 1, 0])\r\n",
    "\r\n",
    "# sort data\r\n",
    "index = np.argsort(data)\r\n",
    "data = data[index]\r\n",
    "label = label[index]\r\n",
    "\r\n",
    "# plot data\r\n",
    "plt.scatter(data, label)\r\n",
    "plt.legend()\r\n",
    "\r\n",
    "# define gain func\r\n",
    "def classification_gain(res, prob, la=0):\r\n",
    "    return np.sum(res)**2/(np.sum(prob * (1-prob)) + la)\r\n",
    "\r\n",
    "# get data interval\r\n",
    "interval_list = [(data[i]+ data[i+1])/2 for i in range(len(data)-1)]\r\n",
    "\r\n",
    "# compute residual\r\n",
    "init_guess = .5\r\n",
    "residual = label - init_guess\r\n",
    "\r\n",
    "# init probability\r\n",
    "prob = np.array([init_guess] * len(data))\r\n",
    "init_gain = classification_gain(residual, prob)\r\n",
    "\r\n",
    "# get cover, if cover is over min_child_split, then remove that leaf\r\n",
    "init_cover = 2\r\n",
    "init_gamma = 1\r\n",
    "\r\n",
    "def _get_cover(prob, la=0):\r\n",
    "    return np.sum(prob * (1 - prob)) - la\r\n",
    "\r\n",
    "# loop for each interval to compute gain\r\n",
    "def _get_logic_not(sati):\r\n",
    "    return np.logical_not(sati)\r\n",
    "\r\n",
    "gain_list = []\r\n",
    "for interval in interval_list:\r\n",
    "    left_sati = data <= interval\r\n",
    "    left_gain = classification_gain(residual[left_sati], prob[left_sati])\r\n",
    "    right_gain = classification_gain(residual[_get_logic_not(left_sati)], prob[_get_logic_not(left_sati)])\r\n",
    "\r\n",
    "    if left_gain < init_gamma:\r\n",
    "        print(\"Shouldn't split to left\")\r\n",
    "    if right_gain < init_gamma:\r\n",
    "        print(\"Shouldn't spilt to right\")\r\n",
    "    \r\n",
    "    gain_list.append(left_gain + right_gain - init_gain)\r\n",
    "\r\n",
    "# get max gain with  interval list to get split data\r\n",
    "split_data= interval_list[np.argmax(gain_list)]\r\n",
    "\r\n",
    "# print tree\r\n",
    "left_sati = data <= split_data\r\n",
    "print(\"Build tree\")\r\n",
    "print(data)\r\n",
    "print(data[left_sati], data[_get_logic_not(left_sati)], sep='\\t')\r\n",
    "print(\"Tree Finished\")\r\n",
    "\r\n",
    "\r\n",
    "# computer left cover and right to decide to prune or not\r\n",
    "left_cover = _get_cover(prob[left_sati])\r\n",
    "right_cover =_get_cover(prob[_get_logic_not(left_sati)])\r\n",
    "print(\"Left cover is over init?\", left_cover > init_cover)\r\n",
    "print(\"Right cover is over init?\", right_cover > init_cover)\r\n",
    "\r\n",
    "\r\n",
    "# get output with log(odds)\r\n",
    "def log_odds(x):\r\n",
    "    return np.log(x / (1-x))\r\n",
    "\r\n",
    "def probability(odds):\r\n",
    "    return np.exp(-odds) / (1 + np.exp(-odds))\r\n",
    "\r\n",
    "# compuate output for each leaf\r\n",
    "left_sati = data <= split_data\r\n",
    "left_output = classification_gain(residual[left_sati], prob[left_sati])\r\n",
    "right_output = classification_gain(residual[_get_logic_not(left_sati)], prob[_get_logic_not(left_sati)])\r\n",
    "out_list = [left_output, right_output]\r\n",
    "\r\n",
    "print(\"get out list:\", out_list)\r\n",
    "# get prob\r\n",
    "learning_rate = .3\r\n",
    "\r\n",
    "prob_list = []\r\n",
    "for x in data:\r\n",
    "    if x <= split_data:\r\n",
    "        out = out_list[0]\r\n",
    "    else:\r\n",
    "        out = out_list[1]\r\n",
    "    p = init_guess + learning_rate * out\r\n",
    "    prob_list.append(probability(p))\r\n",
    "\r\n",
    "print(prob_list)\r\n",
    "\r\n",
    "\r\n",
    "# plot original and prediction\r\n",
    "plt.scatter(data, label, label='original')\r\n",
    "plt.scatter(data, prob_list, label='probalitity')\r\n",
    "plt.legend()\r\n",
    "\r\n",
    "plt.show()\r\n"
   ],
   "outputs": [
    {
     "output_type": "stream",
     "name": "stderr",
     "text": [
      "No handles with labels found to put in legend.\n"
     ]
    },
    {
     "output_type": "stream",
     "name": "stdout",
     "text": [
      "Shouldn't spilt to right\n",
      "Shouldn't split to left\n",
      "Shouldn't spilt to right\n",
      "Shouldn't split to left\n",
      "Build tree\n",
      "[ 1  4  5 10]\n",
      "[1]\t[ 4  5 10]\n",
      "Tree Finished\n",
      "Left cover is over init? False\n",
      "Right cover is over init? False\n",
      "get out list: [1.0, 0.3333333333333333]\n",
      "[0.31002551887238755, 0.35434369377420455, 0.35434369377420455, 0.35434369377420455]\n"
     ]
    },
    {
     "output_type": "display_data",
     "data": {
      "image/png": "[encoded data removed]",
      "text/plain": [
       "<Figure size 432x288 with 1 Axes>"
      ]
     },
     "metadata": {
      "needs_background": "light"
     }
    }
   ],
   "metadata": {}
  },
  {
   "cell_type": "code",
   "execution_count": 49,
   "source": [
    "residual"
   ],
   "outputs": [
    {
     "output_type": "execute_result",
     "data": {
      "text/plain": [
       "array([-0.5,  0.5,  0.5, -0.5])"
      ]
     },
     "metadata": {},
     "execution_count": 49
    }
   ],
   "metadata": {}
  },
  {
   "cell_type": "code",
   "execution_count": 50,
   "source": [
    "left_sati"
   ],
   "outputs": [
    {
     "output_type": "execute_result",
     "data": {
      "text/plain": [
       "False"
      ]
     },
     "metadata": {},
     "execution_count": 50
    }
   ],
   "metadata": {}
  }
 ],
 "metadata": {
  "orig_nbformat": 4,
  "language_info": {
   "name": "python",
   "version": "3.7.11",
   "mimetype": "text/x-python",
   "codemirror_mode": {
    "name": "ipython",
    "version": 3
   },
   "pygments_lexer": "ipython3",
   "nbconvert_exporter": "python",
   "file_extension": ".py"
  },
  "kernelspec": {
   "name": "python3",
   "display_name": "Python 3.7.11 64-bit ('automl': conda)"
  },
  "interpreter": {
   "hash": "fcab0be14ffde64b8429363d67b386d6f92710887c92937eae87513b1d247279"
  }
 },
 "nbformat": 4,
 "nbformat_minor": 2
}