{
 "cells": [
  {
   "cell_type": "markdown",
   "metadata": {},
   "source": [
    "### Gradient boosting tree Classification implement with pure python\n",
    "\n",
    "To implement with GBDT for classification with pure python to understand how it works. The reason for **Gradient** is when try to get leaf output or loss function will use **gradient descent** to get best values."
   ]
  },
  {
   "cell_type": "code",
   "execution_count": 1,
   "metadata": {},
   "outputs": [
    {
     "data": {
      "image/png": "[encoded data removed]",
      "text/plain": [
       "<Figure size 432x288 with 1 Axes>"
      ]
     },
     "metadata": {
      "needs_background": "light"
     },
     "output_type": "display_data"
    }
   ],
   "source": [
    "# sample data\n",
    "import numpy as np\n",
    "import matplotlib.pyplot as plt\n",
    "\n",
    "data = np.array([[10, 25, 8, 20, 9, 6], ['a', 'a', 'b', 'a', 'b', 'a']]).T\n",
    "label = np.array([1, 0, 1, 0, 1, 1])\n",
    "\n",
    "# sort data based on first feature\n",
    "sort_i = np.argsort(data[:, 0].astype(int))\n",
    "data = data[sort_i]\n",
    "label = label[sort_i]\n",
    "\n",
    "plt.scatter(data[:, 0], label, c=label)\n",
    "plt.show()"
   ]
  },
  {
   "cell_type": "code",
   "execution_count": 2,
   "metadata": {},
   "outputs": [
    {
     "name": "stdout",
     "output_type": "stream",
     "text": [
      "Num gain list:  [7.0, 8.5, 9.5, 15.0, 22.5]\n",
      "Final gain value list:  [(0, 7.0, 0.0), (1, 'a', 2.7755575615628914e-17)]\n",
      "Choose feature: 0 with value: 7.0 as best split value\n"
     ]
    }
   ],
   "source": [
    "# wrap decsion tree build into a function, this is a regression tree!\n",
    "def loss_function(truth, pred):\n",
    "    return .5 * (truth - pred)**2\n",
    "\n",
    "def classification_gain(residual, probs, la=0):\n",
    "    return np.sum(residual) / (np.sum(probs * (1-probs)) + la)\n",
    "\n",
    "def regression_gain(residual, la=0):\n",
    "    return np.sum(residual)/(len(residual) + la)\n",
    "\n",
    "# first make init guess with log(odds): odds=pos/neg\n",
    "init_prob = np.log(sum(label)/ (len(label)-sum(label)))\n",
    "\n",
    "# compure residual\n",
    "first_residual = label - init_prob\n",
    "\n",
    "# for classification also need first init pro\n",
    "init_prob = np.array([init_prob  if x == 1 else (1-init_prob) for x in label])\n",
    "\n",
    "# then should base on residual to build tree.\n",
    "# should loop for each feature, and get lowest gain with that feature with index to split tree.\n",
    "gain_list = []\n",
    "\n",
    "# first feature is numeric, then should get medium value, second should just with count number.\n",
    "num_data = sort= data[:, 0].astype(int)\n",
    "\n",
    "# When try to get mid value should sort data first!\n",
    "sorted_index = np.argsort(num_data)\n",
    "num_data = num_data[sorted_index]\n",
    "\n",
    "# residual and prob should be same index\n",
    "residual = first_residual[sorted_index]\n",
    "prob = init_prob[sorted_index]\n",
    "\n",
    "first_num_mid_list = [(num_data[i] + num_data[i+1])/2 for i in range(len(num_data) - 1) ]\n",
    "\n",
    "# loop for each split value\n",
    "def _get_gain(residual, prob, sati):\n",
    "    left_res = residual[sati]\n",
    "    right_res = residual[np.logical_not(sati)]\n",
    "    left_prob = prob[sati]\n",
    "    right_prob = prob[np.logical_not(sati)]\n",
    "    # should be weighted gain\n",
    "\n",
    "    base_gain = classification_gain(residual, prob)\n",
    "\n",
    "    left_gain = len(left_res) / len(residual) * classification_gain(left_res, left_prob)\n",
    "    right_gain = len(right_res) / len(residual) * classification_gain(right_res, right_prob)\n",
    "\n",
    "    final_gain = left_gain + right_gain - base_gain\n",
    "\n",
    "    return final_gain\n",
    "\n",
    "gain_list = []\n",
    "\n",
    "num_gain_list = []\n",
    "for mid in first_num_mid_list:\n",
    "    left_sati = num_data <= mid\n",
    "    \n",
    "    final_gain = _get_gain(residual, prob, left_sati)\n",
    "    num_gain_list.append(final_gain)\n",
    "\n",
    "\n",
    "print(\"Num gain list: \", first_num_mid_list)\n",
    "# Then should try to get best split value based on gain\n",
    "best_split_num = first_num_mid_list[np.argmin(num_gain_list)]\n",
    "gain_list.append((0, best_split_num, min(num_gain_list)))\n",
    "\n",
    "\n",
    "# Then to process with non-numeric data\n",
    "non_num = data[:, 1]\n",
    "\n",
    "set_non_num = set(non_num)\n",
    "non_num_gain_list = []\n",
    "for non in set_non_num:\n",
    "    left_sati = non == non_num\n",
    "    \n",
    "    final_gain = _get_gain(first_residual, init_prob, left_sati)\n",
    "    non_num_gain_list.append(final_gain)\n",
    "    \n",
    "best_split_non = non_num[np.argmin(non_num_gain_list)]\n",
    "gain_list.append((1, best_split_non, min(non_num_gain_list)))\n",
    "\n",
    "print(\"Final gain value list: \", gain_list)\n",
    "\n",
    "# get min value as the split value\n",
    "sorted_gain_list = sorted(gain_list, key=lambda x: x[-1])\n",
    "\n",
    "# choose split feature and value\n",
    "split_feature = sorted_gain_list[0][0]\n",
    "split_value = sorted_gain_list[0][1]\n",
    "\n",
    "print(\"Choose feature: {} with value: {} as best split value\".format(split_feature, split_value))"
   ]
  },
  {
   "cell_type": "code",
   "execution_count": 3,
   "metadata": {},
   "outputs": [
    {
     "name": "stdout",
     "output_type": "stream",
     "text": [
      "[ 0.30685282  0.30685282  0.30685282  0.30685282 -0.69314718 -0.69314718]\n",
      "split feature: 0 with split_value: 7.0\n",
      "[0.30685282]\t[ 0.30685282  0.30685282  0.30685282 -0.69314718 -0.69314718]\n",
      "leaf output\n",
      "1.4426950408889634\t-0.4379395167749936\n",
      "leaf data point\n",
      "[['6' 'a']]\t[['8' 'b']\n",
      " ['9' 'b']\n",
      " ['10' 'a']\n",
      " ['20' 'a']\n",
      " ['25' 'a']]\n",
      "**********\n",
      "Get output odds: [ 1.44269504 -0.43793952 -0.43793952 -0.43793952 -0.43793952 -0.43793952]\n",
      "get new prob [0.75509176 0.6368609  0.6368609  0.6368609  0.54375553 0.54375553]\n",
      "[1 1 1 1 0 0]\n",
      "[0.69314718 0.69314718 0.69314718 0.69314718 0.30685282 0.30685282]\n",
      "[0.75509176 0.6368609  0.6368609  0.6368609  0.54375553 0.54375553]\n"
     ]
    }
   ],
   "source": [
    "# then we just need to build the tree.\n",
    "class Tree:\n",
    "    def __init__(self, data, residual, split_feature, split_value, prob=init_prob, feature_type='num', left_node=None, right_node=None, learning_rate=.3):\n",
    "        # for tree output for each leaf is: sum(residaul)/(sum(prob*(1 - prob)))\n",
    "        self.residual = residual\n",
    "        self.split_feature = split_feature\n",
    "        self.feature_type = feature_type\n",
    "        self.split_value = split_value\n",
    "        feature_data = data[:, split_feature]\n",
    "        if feature_type == 'num':\n",
    "            feature_data = feature_data.astype(int)\n",
    "            left_sati = feature_data <= split_value\n",
    "        else:\n",
    "            left_sati = feature_data == split_value\n",
    "        right_sati = np.logical_not(left_sati)    \n",
    "        \n",
    "        left_prob = prob[left_sati]\n",
    "        right_prob = prob[right_sati]\n",
    "        self.left_value = residual[left_sati]\n",
    "        self.right_value = residual[right_sati]\n",
    "        self.left_output = sum(self.left_value) / np.sum(left_prob * (1 - left_prob), axis=0)\n",
    "        self.right_output = sum(self.right_value)/ np.sum(right_prob * (1 - right_prob), axis=0)\n",
    "        \n",
    "        self.left_data = data[left_sati]\n",
    "        self.right_data = data[right_sati]\n",
    "        \n",
    "        # save left and right node, so that we could recurient to get from root\n",
    "        self.left_node = left_node\n",
    "        self.right_node = right_node\n",
    "        self.learning_rate = learning_rate\n",
    "        \n",
    "    def __call__(self):\n",
    "        print(self.residual)\n",
    "        print(\"split feature: {} with split_value: {}\".format(self.split_feature, self.split_value))\n",
    "        print(self.left_value, self.right_value, sep='\\t')\n",
    "        print(\"leaf output\")\n",
    "        print(self.left_output, self.right_output, sep='\\t')\n",
    "        print(\"leaf data point\")\n",
    "        print(self.left_data, self.right_data, sep='\\t')\n",
    "       \n",
    "    @staticmethod\n",
    "    def _odds_to_prob(odds):\n",
    "        return np.exp(odds)/ (1 + np.exp(odds))\n",
    "    \n",
    "        \n",
    "    def predict(self, x_test, prob=init_prob):\n",
    "        # predict = init_odds + learning_rate * output\n",
    "        # how to make prediction, here is just one pass to select that feature and do comparation, and get the region of output data.\n",
    "        feature_to_compare = x_test[:, self.split_feature]\n",
    "        \n",
    "        if self.feature_type == 'num':\n",
    "            feature_to_compare = feature_to_compare.astype(int)\n",
    "        \n",
    "        out_odds = []\n",
    "        for f in feature_to_compare:\n",
    "            if self.feature_type == 'num':\n",
    "                if f <= self.split_value:\n",
    "                    out = self.left_output\n",
    "                else:\n",
    "                    out = self.right_output\n",
    "            else:\n",
    "                if f == self.split_value:\n",
    "                    out = self.left_output\n",
    "                else:\n",
    "                    out = self.right_output\n",
    "            # append out into list\n",
    "            out_odds.append(out)\n",
    "        out_odds = np.array(out_odds)\n",
    "        print(\"Get output odds:\", out_odds)\n",
    "        # out should be: init_odds + learning_rate * output\n",
    "        final_out_odds = prob +self.learning_rate * out_odds\n",
    "        return   self._odds_to_prob(final_out_odds)\n",
    "    \n",
    "tree = Tree(data, residual, split_feature, split_value)\n",
    "tree()\n",
    "\n",
    "print('*'*10)\n",
    "new_prob = tree.predict(data)\n",
    "print(\"get new prob\", new_prob)\n",
    "\n",
    "# Next step is to get new output probability for each sample\n",
    "print(label, init_prob, new_prob, sep='\\n')"
   ]
  },
  {
   "cell_type": "markdown",
   "metadata": {},
   "source": [
    "## SVM\n",
    "\n",
    "Core idea of **SVM** that with kernel trick."
   ]
  },
  {
   "cell_type": "code",
   "execution_count": 9,
   "metadata": {},
   "outputs": [
    {
     "data": {
      "image/png": "[encoded data removed]",
      "text/plain": [
       "<Figure size 432x288 with 1 Axes>"
      ]
     },
     "metadata": {
      "needs_background": "light"
     },
     "output_type": "display_data"
    }
   ],
   "source": [
    "import matplotlib.pyplot as plt\n",
    "\n",
    "data = np.array([0, 1, 2, 3, 10, 11, 12, 20, 23]).reshape(-1, 1)\n",
    "label = np.array([1, 1, 1, 1, 0, 0, 0, 1, 1])\n",
    "\n",
    "# This is not linear seperatable.\n",
    "plt.scatter(data, [0]*len(data), c=label)\n",
    "plt.show()"
   ]
  },
  {
   "cell_type": "markdown",
   "metadata": {},
   "source": [
    "We could use polynomial kernel to do transformation, say:\n",
    "$$\\hat(y) = (a*b+ r)^n$$\n",
    "\n",
    "Then if we set `r=1/2` and `n=2`, then we will get:\n",
    "$$\\hat(y) = (a* b + 1/ 2)^2$$\n",
    "Then split it:\n",
    "$$\\hat(y) = (a*b+1/2) * (a*b+1/2)$$ <br> $$= (a*b)^2 + a*b + 1/4 $$ <br> $$  = a*b + (a*b)^2 + 1/4$$\n",
    "\n",
    "Then convert with dot product:\n",
    "$$\\dot((a, a^2, 1/2), (b, b^2, 1/2))  = a*b + a^2 * b^2 + 1/4 $$\n",
    "\n",
    "Then we could just compute original data into 3D, but for `1/2` could be ignored, then we could convert 1D into 2D with: $(X, X^2)$"
   ]
  },
  {
   "cell_type": "code",
   "execution_count": 29,
   "metadata": {},
   "outputs": [
    {
     "name": "stdout",
     "output_type": "stream",
     "text": [
      "22.00911251980982 -55.19413629160056\n"
     ]
    },
    {
     "data": {
      "text/plain": [
       "[<matplotlib.lines.Line2D at 0x179fd0b76c8>]"
      ]
     },
     "execution_count": 29,
     "metadata": {},
     "output_type": "execute_result"
    },
    {
     "data": {
      "image/png": "[encoded data removed]",
      "text/plain": [
       "<Figure size 432x288 with 1 Axes>"
      ]
     },
     "metadata": {
      "needs_background": "light"
     },
     "output_type": "display_data"
    }
   ],
   "source": [
    "new_data = np.concatenate([data, data**2], axis=1)\n",
    "\n",
    "# let's just create a linear line to seperate these data, \n",
    "from sklearn.linear_model import LinearRegression\n",
    "\n",
    "lr = LinearRegression()\n",
    "lr.fit(new_data[:, 0].reshape(-1, 1), new_data[:, 1])\n",
    "\n",
    "weights = lr.coef_[0]\n",
    "bias = lr.intercept_\n",
    "print(weights, bias)\n",
    "# let's plot these data\n",
    "plt.scatter(new_data[:, 0], new_data[:, 1], c=label)\n",
    "plt.plot(new_data[:, 0], new_data[:, 0] * weights +bias, c='r')"
   ]
  },
  {
   "cell_type": "markdown",
   "metadata": {},
   "source": [
    "So based on this plot that we could get idea that we could separate better than just 1D with convert into 2D.\n",
    "\n",
    "But in fact we don't need to do real transformation, but with a poly function with `n=2` will get same output, that's called: `kernal trick`."
   ]
  },
  {
   "cell_type": "code",
   "execution_count": null,
   "metadata": {},
   "outputs": [],
   "source": []
  }
 ],
 "metadata": {
  "interpreter": {
   "hash": "fcab0be14ffde64b8429363d67b386d6f92710887c92937eae87513b1d247279"
  },
  "kernelspec": {
   "display_name": "Python 3 (ipykernel)",
   "language": "python",
   "name": "python3"
  },
  "language_info": {
   "codemirror_mode": {
    "name": "ipython",
    "version": 3
   },
   "file_extension": ".py",
   "mimetype": "text/x-python",
   "name": "python",
   "nbconvert_exporter": "python",
   "pygments_lexer": "ipython3",
   "version": "3.7.11"
  }
 },
 "nbformat": 4,
 "nbformat_minor": 4
}
